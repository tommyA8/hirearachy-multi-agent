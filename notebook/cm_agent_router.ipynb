{
 "cells": [
  {
   "cell_type": "code",
   "execution_count": 72,
   "id": "0dbcd08f",
   "metadata": {},
   "outputs": [],
   "source": [
    "import os\n",
    "import json\n",
    "import enum\n",
    "import warnings\n",
    "from typing import List, Dict, Any\n",
    "from sqlalchemy import create_engine, MetaData\n",
    "from pydantic import BaseModel\n",
    "\n",
    "from dotenv import load_dotenv\n",
    "load_dotenv(override=True)\n",
    "warnings.filterwarnings(\"ignore\")\n",
    "\n",
    "# LangChain / LangGraph\n",
    "from langchain.prompts.prompt import PromptTemplate\n",
    "from langchain_ollama import ChatOllama, OllamaEmbeddings\n",
    "from langchain_core.messages import HumanMessage, AIMessage, SystemMessage, BaseMessage\n",
    "from langchain_core.tools import tool\n",
    "from langgraph.graph import StateGraph, START, END, MessagesState\n",
    "from langgraph.checkpoint.memory import MemorySaver\n",
    "from langgraph.prebuilt import create_react_agent\n",
    "\n",
    "# SQL\n",
    "from sqlalchemy import create_engine\n",
    "from langchain_community.utilities import SQLDatabase\n",
    "from langchain_community.agent_toolkits import SQLDatabaseToolkit\n",
    "\n",
    "# Qdrant\n",
    "from qdrant_client import QdrantClient, models\n",
    "\n",
    "# Optional search tool (kept but unused in graph)\n",
    "from langchain_community.tools import BraveSearch"
   ]
  },
  {
   "cell_type": "code",
   "execution_count": 73,
   "id": "8ac808f1",
   "metadata": {},
   "outputs": [],
   "source": [
    "BRAVE_API_KEY = os.getenv(\"BRAVE_API_KEY\")\n",
    "POSTGRES_URI = os.getenv(\"POSTGRES_URI\")\n",
    "QDRANT_URL = os.getenv(\"QDRANT_URL\")\n",
    "QDRANT_COLLECTION_NAME = os.getenv(\"QDRANT_COLLECTION_NAME\")\n",
    "LLM_MODEL = os.getenv(\"LLM_MODEL\")\n",
    "EMBEDED_MODEL_NAME = os.getenv(\"EMBEDED_MODEL_NAME\")\n",
    "# ────────────────────────────────────────────────────────────────────────────────\n",
    "# LLMs & DB\n",
    "llm = ChatOllama(model=LLM_MODEL, temperature=0.1)\n",
    "emb_model = OllamaEmbeddings(model=EMBEDED_MODEL_NAME)\n",
    "engine = create_engine(POSTGRES_URI)\n",
    "db = SQLDatabase(engine=engine)\n",
    "\n",
    "def get_sql_tools(db: SQLDatabase, llm: ChatOllama):\n",
    "    \"\"\"Create SQL tools for ReAct agent.\"\"\"\n",
    "    toolkit = SQLDatabaseToolkit(db=db, llm=llm)\n",
    "    return toolkit.get_tools()\n",
    "\n",
    "DB_TOOLS = get_sql_tools(db, llm)\n"
   ]
  },
  {
   "cell_type": "code",
   "execution_count": 74,
   "id": "438b72fd",
   "metadata": {},
   "outputs": [],
   "source": [
    "class Tools(enum.Enum):\n",
    "    DOCUMENT = \"Document\"\n",
    "    SUBMITTAL = \"Submittal\"\n",
    "    RFI = \"RFI\"\n",
    "    INSPECTION = \"Inspection\"\n",
    "    UNKNOWN = \"Unknown\"\n",
    "    KANBAN = \"Kanban\"\n",
    "    DIRECTORY = \"Directory\"\n",
    "    TRANSMITTAL = \"Transmittal\"\n",
    "    WORK_ORDER = \"Work Order\"\n",
    "    SAFETY = \"Safety\"\n",
    "    INSPECTION_TEST_PLAN = \"Inspection Test Plan\"\n",
    "    SPECIFICATION = \"Specification\"\n",
    "    SCHEDULE = \"Schedule\"\n",
    "    FORM = \"Form\"\n",
    "    LOCATION = \"Location\"\n",
    "    TAG = \"Tag\"\n",
    "    WORK_ORDER_GROUP = \"Work Order Group\"\n",
    "    MEETING = \"Meeting\"\n",
    "\n",
    "class RoutingDecision(BaseModel):\n",
    "    question: str\n",
    "    tool: Tools\n",
    "    reasoning: str"
   ]
  },
  {
   "cell_type": "markdown",
   "id": "155eca87",
   "metadata": {},
   "source": [
    "# Create Router Agent"
   ]
  },
  {
   "cell_type": "code",
   "execution_count": 75,
   "id": "ffb2ba7a",
   "metadata": {},
   "outputs": [],
   "source": [
    "prompt_router = \"\"\"\n",
    "Analyze the user query below and determine its Available Tools.\n",
    "Available Tools (Choose one):\n",
    "- Document: For questions about user's documents related to the project that they uploaded to the system. It's not related to attachmented submittal files or other.\n",
    "- Submittal: For questions about construction submittals. \n",
    "- RFI: For questions about construction requests for information (RFI).\n",
    "- Inspection: For questions about construction inspections.\n",
    "- Work Order: For questions about construction work orders.\n",
    "- Unknown: If the user's query is not related to any of the above features. Try to answer the user's question as best you can.\n",
    "\n",
    "Query: {question}\n",
    "\"\"\""
   ]
  },
  {
   "cell_type": "code",
   "execution_count": 76,
   "id": "7e443927",
   "metadata": {},
   "outputs": [],
   "source": [
    "user_query = {\n",
    "    \"question\": \"Hello\",\n",
    "    #\"Get me a latest rejected work order\",\n",
    "    \"user_id\": 1,\n",
    "    \"project_id\": 1,\n",
    "    \"company_id\": 1,\n",
    "}"
   ]
  },
  {
   "cell_type": "code",
   "execution_count": 77,
   "id": "6a9265e3",
   "metadata": {},
   "outputs": [
    {
     "name": "stdout",
     "output_type": "stream",
     "text": [
      "Question:  Hello\n",
      "features:  Tools.UNKNOWN\n",
      "Reasoning:  The query is a greeting and not related to any of the available tools. The available tools are for questions about documents, construction submittals, RFI, inspection, work orders, or unknown. The query does not relate to any of these categories.\n"
     ]
    }
   ],
   "source": [
    "# Structed Output follow RoutingDecision schema\n",
    "llm_router = llm.with_structured_output(RoutingDecision)\n",
    "\n",
    "response_router = llm_router.invoke(prompt_router.format(question=user_query[\"question\"]))\n",
    "\n",
    "print(\"Question: \", response_router.question)\n",
    "print(\"features: \", response_router.tool)\n",
    "print(\"Reasoning: \", response_router.reasoning)"
   ]
  },
  {
   "cell_type": "markdown",
   "id": "8eef883a",
   "metadata": {},
   "source": [
    "# Check Permission"
   ]
  },
  {
   "cell_type": "markdown",
   "id": "71f34105",
   "metadata": {},
   "source": [
    "User ห้ามถามเกี่ยวกับ Feature นั้น ๆ permission_id < 1 (0=Not Allowed)\n",
    "\n",
    "- Step 1: User ask question\n",
    "- Step 2: Analyze question is related to Avalable Features?\n",
    "- Step 3: If UNKNOWN, its mean question is not related to any features\n",
    "- Step 3: Check if permission_id >= 1"
   ]
  },
  {
   "cell_type": "markdown",
   "id": "41249a5e",
   "metadata": {},
   "source": [
    "## Query Database"
   ]
  },
  {
   "cell_type": "code",
   "execution_count": 78,
   "id": "997009da",
   "metadata": {},
   "outputs": [],
   "source": [
    "from sqlalchemy import MetaData, Table, select, bindparam\n",
    "\n",
    "metadata = MetaData()\n",
    "\n",
    "a   = Table(\"auth_user\", metadata, schema=\"public\", autoload_with=engine)\n",
    "cu  = Table(\"company_companyuser\", metadata, schema=\"public\", autoload_with=engine)\n",
    "c   = Table(\"company_company\", metadata, schema=\"public\", autoload_with=engine)\n",
    "pu  = Table(\"project_projectuser\", metadata, schema=\"public\", autoload_with=engine)\n",
    "p   = Table(\"project_project\", metadata, schema=\"public\", autoload_with=engine)\n",
    "cp  = Table(\"company_permission\", metadata, schema=\"public\", autoload_with=engine)\n",
    "cpg = Table(\"company_permissiongroup\", metadata, schema=\"public\", autoload_with=engine)\n",
    "tl  = Table(\"company_toollabels\", metadata, schema=\"public\", autoload_with=engine)\n",
    "\n",
    "stmt = (\n",
    "    select(tl.c.title).distinct()\n",
    "    .select_from(\n",
    "        a\n",
    "        .join(cu, a.c.id == cu.c.user_id)\n",
    "        .join(c, c.c.id == cu.c.company_id)\n",
    "        .join(pu, a.c.id == pu.c.user_id)\n",
    "        .join(p, p.c.id == pu.c.project_id)\n",
    "        .join(cp, cp.c.id == pu.c.permission_id)\n",
    "        .join(cpg, cpg.c.permission_id == pu.c.permission_id)\n",
    "        .join(tl, tl.c.id == cpg.c.tool_id)\n",
    "    )\n",
    "    .where(\n",
    "        a.c.id == bindparam(\"user_id\"),\n",
    "        c.c.id == bindparam(\"company_id\"),\n",
    "        p.c.id == bindparam(\"project_id\"),\n",
    "        tl.c.title == bindparam(\"tool_title\"),\n",
    "    )\n",
    ")"
   ]
  },
  {
   "cell_type": "code",
   "execution_count": 79,
   "id": "e3fdc507",
   "metadata": {},
   "outputs": [
    {
     "name": "stdout",
     "output_type": "stream",
     "text": [
      "No results found. User does not have permission.\n",
      "SELECT DISTINCT public.company_toollabels.title \n",
      "FROM public.auth_user JOIN public.company_companyuser ON public.auth_user.id = public.company_companyuser.user_id JOIN public.company_company ON public.company_company.id = public.company_companyuser.company_id JOIN public.project_projectuser ON public.auth_user.id = public.project_projectuser.user_id JOIN public.project_project ON public.project_project.id = public.project_projectuser.project_id JOIN public.company_permission ON public.company_permission.id = public.project_projectuser.permission_id JOIN public.company_permissiongroup ON public.company_permissiongroup.permission_id = public.project_projectuser.permission_id JOIN public.company_toollabels ON public.company_toollabels.id = public.company_permissiongroup.tool_id \n",
      "WHERE public.auth_user.id = NULL AND public.company_company.id = NULL AND public.project_project.id = NULL AND public.company_toollabels.title = NULL\n"
     ]
    }
   ],
   "source": [
    "\n",
    "params = {\n",
    "    \"user_id\": user_query[\"user_id\"],\n",
    "    \"company_id\": user_query[\"company_id\"],\n",
    "    \"project_id\": user_query[\"project_id\"],\n",
    "    \"tool_title\": \"response_router.features.value\",\n",
    "}\n",
    "\n",
    "is_valid_permission = False\n",
    "with engine.connect() as conn:\n",
    "    res = conn.execute(stmt, params).scalars().all()\n",
    "    if res:\n",
    "        is_valid_permission = True\n",
    "\n",
    "if is_valid_permission:\n",
    "    print(\"is_valid_permission: \", is_valid_permission)\n",
    "else:\n",
    "    print(\"No results found. User does not have permission.\")\n",
    "\n",
    "# To inspect the exact SQL with literals:\n",
    "print(stmt.compile(engine, compile_kwargs={\"literal_binds\": True}))\n"
   ]
  },
  {
   "cell_type": "markdown",
   "id": "220c0221",
   "metadata": {},
   "source": [
    "## If UNKNOWN and not valid permission"
   ]
  },
  {
   "cell_type": "code",
   "execution_count": 81,
   "id": "5010f581",
   "metadata": {},
   "outputs": [
    {
     "name": "stdout",
     "output_type": "stream",
     "text": [
      "Response:  <think>\n",
      "Okay, the user asked \"Hello\" and I need to check if there are any reasons why I can't answer it. The first reason says it's not related to the available tools. The tools mentioned are documents, construction submittals, RFI, inspection, work orders, or unknown. \"Hello\" doesn't fit any of those. So that's valid. The second reason is about tool permission being False, but that's probably not applicable here. So the answer should be straightforward, pointing out that the query is a greeting and not related to any of the provided tools.\n",
      "</think>\n",
      "\n",
      "The query is a greeting and not related to any of the available tools.\n"
     ]
    }
   ],
   "source": [
    "# If UNKNOWN and not valid permission\n",
    "\n",
    "prompt_template = \"\"\"\n",
    "You are a helpdesk for a construction company.\n",
    "You given a question and 2 different reasons why you CANNOT answer the question.\n",
    "1. Its not related to any of the available features and the reason is: {reason}\n",
    "2. Its not valid permission: tool permission={permission}\n",
    "\n",
    "question: {question}\n",
    "\"\"\"\n",
    "\n",
    "\n",
    "if response_router.tool == Tools.UNKNOWN or not is_valid_permission:\n",
    "    # prompt = PromptTemplate(\n",
    "    #     input_variables=[\"question\"],\n",
    "    #     template=prompt_template,\n",
    "    # )\n",
    "    response = llm.invoke(prompt_template.format(reason=response_router.reasoning, permission=is_valid_permission, question=user_query[\"question\"]))\n",
    "    print(\"Response: \", response.content)\n",
    "\n",
    "else:\n",
    "    print(\"Response: \", response_router.reasoning)"
   ]
  },
  {
   "cell_type": "code",
   "execution_count": null,
   "id": "3dc34531",
   "metadata": {},
   "outputs": [],
   "source": []
  },
  {
   "cell_type": "code",
   "execution_count": 8,
   "id": "152dbd0e",
   "metadata": {},
   "outputs": [],
   "source": [
    "# def check_permissions(user_id: str, company_id: str, project_id: str, feature: AvailableFeatures) -> bool:"
   ]
  },
  {
   "cell_type": "markdown",
   "id": "e6518f16",
   "metadata": {},
   "source": [
    "# Router"
   ]
  },
  {
   "cell_type": "markdown",
   "id": "c70deb15",
   "metadata": {},
   "source": [
    "# Retrieval"
   ]
  },
  {
   "cell_type": "markdown",
   "id": "5b9a7551",
   "metadata": {},
   "source": [
    "# Text-to-SQL"
   ]
  },
  {
   "cell_type": "markdown",
   "id": "14a71d99",
   "metadata": {},
   "source": [
    "# Inference"
   ]
  }
 ],
 "metadata": {
  "kernelspec": {
   "display_name": "venv",
   "language": "python",
   "name": "python3"
  },
  "language_info": {
   "codemirror_mode": {
    "name": "ipython",
    "version": 3
   },
   "file_extension": ".py",
   "mimetype": "text/x-python",
   "name": "python",
   "nbconvert_exporter": "python",
   "pygments_lexer": "ipython3",
   "version": "3.12.3"
  }
 },
 "nbformat": 4,
 "nbformat_minor": 5
}
