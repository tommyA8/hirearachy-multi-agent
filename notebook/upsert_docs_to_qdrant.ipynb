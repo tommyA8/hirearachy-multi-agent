{
 "cells": [
  {
   "cell_type": "code",
   "execution_count": 57,
   "id": "6691d181",
   "metadata": {},
   "outputs": [],
   "source": [
    "import os\n",
    "import uuid\n",
    "import json\n",
    "import numpy as np\n",
    "from PIL import Image\n",
    "from pydantic import BaseModel\n",
    "from sqlalchemy import create_engine, MetaData\n",
    "\n",
    "from langchain_community.document_loaders import UnstructuredPDFLoader\n",
    "from langchain_community.document_loaders import PyPDFLoader\n",
    "from pprint import pprint\n",
    "\n",
    "from sentence_transformers import SentenceTransformer\n",
    "\n",
    "from langchain.utilities import SQLDatabase\n",
    "from langchain.agents import create_sql_agent\n",
    "from langchain.agents.agent_toolkits import SQLDatabaseToolkit\n",
    "from langchain.agents.agent_types import AgentType\n",
    "from langchain_ollama import OllamaEmbeddings\n",
    "from langchain.schema import Document\n",
    "from langchain.vectorstores import Qdrant\n",
    "\n",
    "from qdrant_client import QdrantClient, models\n",
    "from qdrant_client.http.models import PointStruct, VectorParams, Distance\n",
    "\n",
    "from dotenv import load_dotenv\n",
    "load_dotenv(override=True)\n",
    "\n",
    "import warnings\n",
    "warnings.filterwarnings(\"ignore\")\n",
    "\n",
    "import yaml"
   ]
  },
  {
   "cell_type": "code",
   "execution_count": 58,
   "id": "1c64ab57",
   "metadata": {},
   "outputs": [
    {
     "name": "stdout",
     "output_type": "stream",
     "text": [
      "{'cm_tools': [{'content': 'Tool name: RFI (Request for Information) '\n",
      "                          'Definition: A formal request submitted by a '\n",
      "                          'contractor or subcontractor to the consultant or '\n",
      "                          'owner to clarify design details, specifications, or '\n",
      "                          'site conditions.   Example: When the contractor or '\n",
      "                          'subcontractor is unsure about design details, '\n",
      "                          'specifications, or site conditions, they submit an '\n",
      "                          'RFI. The consultant or owner reviews it, issues a '\n",
      "                          'response, and the RFI status is updated '\n",
      "                          'accordingly.\\n',\n",
      "               'id': 'Tool::RFI',\n",
      "               'metadata': {'process_status': 'document_document.process',\n",
      "                            'process_status_values': {0: 'Draft',\n",
      "                                                      1: 'Review',\n",
      "                                                      2: 'Open',\n",
      "                                                      3: 'Waiting For Manager',\n",
      "                                                      4: 'Closed'},\n",
      "                            'related_tables': ['document_document',\n",
      "                                               'document_template',\n",
      "                                               'auth_user',\n",
      "                                               'company_discipline',\n",
      "                                               'company_contractor',\n",
      "                                               'project_project',\n",
      "                                               'project_floorplan',\n",
      "                                               'project_location',\n",
      "                                               'project_specification',\n",
      "                                               'inspection_test_plan_inspectiontestplan'],\n",
      "                            'task_decision': 'document_document.status',\n",
      "                            'task_decision_values': {0: 'Invalid',\n",
      "                                                     1: 'Pending',\n",
      "                                                     2: 'In Process',\n",
      "                                                     3: 'Approved',\n",
      "                                                     4: 'Approved as Note',\n",
      "                                                     5: 'Rejected',\n",
      "                                                     6: 'Rejected as Note',\n",
      "                                                     7: 'Deleted'}},\n",
      "               'title': 'RFI (Request for Information)'},\n",
      "              {'content': 'Tool name: Submittal Definition: A formal document, '\n",
      "                          'drawing, material, or sample submitted by a '\n",
      "                          'contractor or subcontractor to the consultant or '\n",
      "                          'owner for review and approval before procurement or '\n",
      "                          'construction. Example: A contractor prepares and '\n",
      "                          'submits a material submittal for approval. The '\n",
      "                          'consultant reviews it for compliance with project '\n",
      "                          'requirements and issues a response such as '\n",
      "                          'Approved, Rejected, or Revise. The submittal status '\n",
      "                          'is then updated accordingly.  \\n',\n",
      "               'id': 'Tool::Submittal',\n",
      "               'metadata': {'process_status': 'document_document.process',\n",
      "                            'process_status_values': {0: 'Draft',\n",
      "                                                      1: 'Review',\n",
      "                                                      2: 'Open',\n",
      "                                                      3: 'Waiting For Manager',\n",
      "                                                      4: 'Closed'},\n",
      "                            'related_tables': ['document_submittal',\n",
      "                                               'document_document',\n",
      "                                               'document_template',\n",
      "                                               'auth_user',\n",
      "                                               'company_discipline',\n",
      "                                               'company_contractor',\n",
      "                                               'project_project',\n",
      "                                               'project_floorplan',\n",
      "                                               'project_location',\n",
      "                                               'project_specification',\n",
      "                                               'inspection_test_plan_inspectiontestplan'],\n",
      "                            'task_decision': 'document_document.status',\n",
      "                            'task_decision_values': {0: 'Invalid',\n",
      "                                                     1: 'Pending',\n",
      "                                                     2: 'In Process',\n",
      "                                                     3: 'Approved',\n",
      "                                                     4: 'Approved as Note',\n",
      "                                                     5: 'Rejected',\n",
      "                                                     6: 'Rejected as Note',\n",
      "                                                     7: 'Deleted'}},\n",
      "               'title': 'Submittal'},\n",
      "              {'content': 'Tool name: Inspection Definition: A formal check or '\n",
      "                          'examination of work, materials, or equipment to '\n",
      "                          'ensure compliance with contract, drawings, '\n",
      "                          'specifications, and safety standards. Example: '\n",
      "                          'Contractor or site engineer requests an inspection, '\n",
      "                          'inspector prepares checklist and conducts it on '\n",
      "                          'site or in shop, documents results, and updates '\n",
      "                          'inspection status.\\n',\n",
      "               'id': 'Tool::Inspection',\n",
      "               'metadata': {'process_status': 'document_document.process',\n",
      "                            'process_status_values': {0: 'Draft',\n",
      "                                                      1: 'Review',\n",
      "                                                      2: 'Open',\n",
      "                                                      3: 'Waiting For Manager',\n",
      "                                                      4: 'Closed'},\n",
      "                            'related_tables': ['project_form',\n",
      "                                               'document_inspection',\n",
      "                                               'document_document',\n",
      "                                               'document_template',\n",
      "                                               'auth_user',\n",
      "                                               'company_discipline',\n",
      "                                               'company_contractor',\n",
      "                                               'project_project',\n",
      "                                               'project_floorplan',\n",
      "                                               'project_location',\n",
      "                                               'project_specification',\n",
      "                                               'inspection_test_plan_inspectiontestplan'],\n",
      "                            'task_decision': 'document_document.status',\n",
      "                            'task_decision_values': {0: 'Invalid',\n",
      "                                                     1: 'Pending',\n",
      "                                                     2: 'In Process',\n",
      "                                                     3: 'Approved',\n",
      "                                                     4: 'Approved as Note',\n",
      "                                                     5: 'Rejected',\n",
      "                                                     6: 'Rejected as Note',\n",
      "                                                     7: 'Deleted'}},\n",
      "               'title': 'Inspection'}],\n",
      " 'version': '1.0'}\n"
     ]
    }
   ],
   "source": [
    "with open(\"../docs/cm_tools.yaml\", \"r\") as f:\n",
    "    cm_tools = yaml.safe_load(f)\n",
    "pprint(cm_tools)"
   ]
  },
  {
   "cell_type": "code",
   "execution_count": 59,
   "id": "bc4e7c84",
   "metadata": {},
   "outputs": [],
   "source": [
    "embeddings = OllamaEmbeddings(model=\"bge-m3:latest\")"
   ]
  },
  {
   "cell_type": "code",
   "execution_count": 60,
   "id": "35b57a34",
   "metadata": {},
   "outputs": [],
   "source": [
    "points = []\n",
    "for i, tool in enumerate(cm_tools['cm_tools']):\n",
    "    id = tool['id']\n",
    "    title = tool['title']\n",
    "    content = tool['content']\n",
    "    metadata = tool['metadata']\n",
    "    point = PointStruct(\n",
    "        id=i,\n",
    "        vector=embeddings.embed_query(content),\n",
    "        payload={\n",
    "            \"title\": title,\n",
    "            \"content\": content,\n",
    "            \"metadata\": metadata\n",
    "        }\n",
    "    )\n",
    "    points.append(point)\n"
   ]
  },
  {
   "cell_type": "code",
   "execution_count": 61,
   "id": "6c4912ee",
   "metadata": {},
   "outputs": [],
   "source": [
    "qdrant_client  = QdrantClient(url=os.getenv(\"QDRANT_URL\"))"
   ]
  },
  {
   "cell_type": "code",
   "execution_count": 62,
   "id": "58d1749a",
   "metadata": {},
   "outputs": [
    {
     "name": "stdout",
     "output_type": "stream",
     "text": [
      "Collection already created\n"
     ]
    }
   ],
   "source": [
    "COL_NAME = \"CM-tools-docs\"\n",
    "if not qdrant_client.collection_exists(collection_name=COL_NAME): \n",
    "    qdrant_client.create_collection(\n",
    "        collection_name=COL_NAME,\n",
    "        vectors_config=VectorParams(size=1024, distance=Distance.COSINE),\n",
    "        # optional: tune shards, replication_factor, etc.\n",
    "    )\n",
    "else:\n",
    "    print(\"Collection already created\")"
   ]
  },
  {
   "cell_type": "code",
   "execution_count": 63,
   "id": "ad9fa7af",
   "metadata": {},
   "outputs": [
    {
     "data": {
      "text/plain": [
       "UpdateResult(operation_id=4, status=<UpdateStatus.COMPLETED: 'completed'>)"
      ]
     },
     "execution_count": 63,
     "metadata": {},
     "output_type": "execute_result"
    }
   ],
   "source": [
    "qdrant_client.upsert(collection_name=COL_NAME, points=points)"
   ]
  },
  {
   "cell_type": "code",
   "execution_count": 84,
   "id": "d06bbb80",
   "metadata": {},
   "outputs": [],
   "source": [
    "q = \"Does the status of latest RFI is draft?\""
   ]
  },
  {
   "cell_type": "code",
   "execution_count": 85,
   "id": "5f9bfa72",
   "metadata": {},
   "outputs": [
    {
     "data": {
      "text/plain": [
       "[ScoredPoint(id=0, version=4, score=0.5397983, payload={'title': 'RFI (Request for Information)', 'content': 'Tool name: RFI (Request for Information) Definition: A formal request submitted by a contractor or subcontractor to the consultant or owner to clarify design details, specifications, or site conditions.   Example: When the contractor or subcontractor is unsure about design details, specifications, or site conditions, they submit an RFI. The consultant or owner reviews it, issues a response, and the RFI status is updated accordingly.\\n', 'metadata': {'task_decision': 'document_document.status', 'task_decision_values': {'0': 'Invalid', '1': 'Pending', '2': 'In Process', '3': 'Approved', '4': 'Approved as Note', '5': 'Rejected', '6': 'Rejected as Note', '7': 'Deleted'}, 'process_status': 'document_document.process', 'process_status_values': {'0': 'Draft', '1': 'Review', '2': 'Open', '3': 'Waiting For Manager', '4': 'Closed'}, 'related_tables': ['document_document', 'document_template', 'auth_user', 'company_discipline', 'company_contractor', 'project_project', 'project_floorplan', 'project_location', 'project_specification', 'inspection_test_plan_inspectiontestplan']}}, vector=None, shard_key=None, order_value=None),\n",
       " ScoredPoint(id=1, version=4, score=0.36945626, payload={'title': 'Submittal', 'content': 'Tool name: Submittal Definition: A formal document, drawing, material, or sample submitted by a contractor or subcontractor to the consultant or owner for review and approval before procurement or construction. Example: A contractor prepares and submits a material submittal for approval. The consultant reviews it for compliance with project requirements and issues a response such as Approved, Rejected, or Revise. The submittal status is then updated accordingly.  \\n', 'metadata': {'task_decision': 'document_document.status', 'task_decision_values': {'0': 'Invalid', '1': 'Pending', '2': 'In Process', '3': 'Approved', '4': 'Approved as Note', '5': 'Rejected', '6': 'Rejected as Note', '7': 'Deleted'}, 'process_status': 'document_document.process', 'process_status_values': {'0': 'Draft', '1': 'Review', '2': 'Open', '3': 'Waiting For Manager', '4': 'Closed'}, 'related_tables': ['document_submittal', 'document_document', 'document_template', 'auth_user', 'company_discipline', 'company_contractor', 'project_project', 'project_floorplan', 'project_location', 'project_specification', 'inspection_test_plan_inspectiontestplan']}}, vector=None, shard_key=None, order_value=None),\n",
       " ScoredPoint(id=2, version=4, score=0.2932434, payload={'title': 'Inspection', 'content': 'Tool name: Inspection Definition: A formal check or examination of work, materials, or equipment to ensure compliance with contract, drawings, specifications, and safety standards. Example: Contractor or site engineer requests an inspection, inspector prepares checklist and conducts it on site or in shop, documents results, and updates inspection status.\\n', 'metadata': {'task_decision': 'document_document.status', 'task_decision_values': {'0': 'Invalid', '1': 'Pending', '2': 'In Process', '3': 'Approved', '4': 'Approved as Note', '5': 'Rejected', '6': 'Rejected as Note', '7': 'Deleted'}, 'process_status': 'document_document.process', 'process_status_values': {'0': 'Draft', '1': 'Review', '2': 'Open', '3': 'Waiting For Manager', '4': 'Closed'}, 'related_tables': ['project_form', 'document_inspection', 'document_document', 'document_template', 'auth_user', 'company_discipline', 'company_contractor', 'project_project', 'project_floorplan', 'project_location', 'project_specification', 'inspection_test_plan_inspectiontestplan']}}, vector=None, shard_key=None, order_value=None)]"
      ]
     },
     "execution_count": 85,
     "metadata": {},
     "output_type": "execute_result"
    }
   ],
   "source": [
    "resp = qdrant_client.query_points(\n",
    "    collection_name=COL_NAME,\n",
    "    query=embeddings.embed_query(q),\n",
    "    search_params=models.SearchParams(hnsw_ef=128, exact=False),\n",
    "    limit=5,\n",
    ")\n",
    "\n",
    "resp.points"
   ]
  },
  {
   "cell_type": "markdown",
   "id": "8f257f76",
   "metadata": {},
   "source": [
    "# Table Infomation"
   ]
  },
  {
   "cell_type": "code",
   "execution_count": null,
   "id": "bd7e816f",
   "metadata": {},
   "outputs": [],
   "source": [
    "with open(\"../docs/cm_tools.yaml\", \"r\") as f:\n",
    "    cm_tools = yaml.safe_load(f)\n",
    "pprint(cm_tools)"
   ]
  }
 ],
 "metadata": {
  "kernelspec": {
   "display_name": "venv",
   "language": "python",
   "name": "python3"
  },
  "language_info": {
   "codemirror_mode": {
    "name": "ipython",
    "version": 3
   },
   "file_extension": ".py",
   "mimetype": "text/x-python",
   "name": "python",
   "nbconvert_exporter": "python",
   "pygments_lexer": "ipython3",
   "version": "3.12.11"
  }
 },
 "nbformat": 4,
 "nbformat_minor": 5
}
