{
 "cells": [
  {
   "cell_type": "code",
   "execution_count": 12,
   "id": "6691d181",
   "metadata": {},
   "outputs": [],
   "source": [
    "import os\n",
    "import uuid\n",
    "import json\n",
    "import numpy as np\n",
    "from PIL import Image\n",
    "from pydantic import BaseModel\n",
    "from sqlalchemy import create_engine, MetaData\n",
    "\n",
    "from langchain_community.document_loaders import UnstructuredPDFLoader\n",
    "from langchain_community.document_loaders import PyPDFLoader\n",
    "from pprint import pprint\n",
    "\n",
    "from sentence_transformers import SentenceTransformer\n",
    "\n",
    "from langchain.utilities import SQLDatabase\n",
    "from langchain.agents import create_sql_agent\n",
    "from langchain.agents.agent_toolkits import SQLDatabaseToolkit\n",
    "from langchain.agents.agent_types import AgentType\n",
    "from langchain_ollama import OllamaEmbeddings\n",
    "from langchain.schema import Document\n",
    "from langchain.vectorstores import Qdrant\n",
    "\n",
    "from qdrant_client import QdrantClient, models\n",
    "from qdrant_client.http.models import PointStruct, VectorParams, Distance\n",
    "\n",
    "from dotenv import load_dotenv\n",
    "load_dotenv(override=True)\n",
    "\n",
    "import warnings\n",
    "warnings.filterwarnings(\"ignore\")\n",
    "\n",
    "import yaml"
   ]
  },
  {
   "cell_type": "code",
   "execution_count": 13,
   "id": "1c64ab57",
   "metadata": {},
   "outputs": [
    {
     "name": "stdout",
     "output_type": "stream",
     "text": [
      "dict_keys(['tables'])\n"
     ]
    }
   ],
   "source": [
    "with open(\"../docs/cm_db_knowledge.yaml\", \"r\") as f:\n",
    "    db_docs = yaml.safe_load(f)\n",
    "pprint(db_docs['database_docs'].keys())"
   ]
  },
  {
   "cell_type": "code",
   "execution_count": 14,
   "id": "bc4e7c84",
   "metadata": {},
   "outputs": [],
   "source": [
    "embeddings = OllamaEmbeddings(model=\"bge-m3:latest\")"
   ]
  },
  {
   "cell_type": "code",
   "execution_count": 15,
   "id": "35b57a34",
   "metadata": {},
   "outputs": [
    {
     "ename": "KeyError",
     "evalue": "'name'",
     "output_type": "error",
     "traceback": [
      "\u001b[31m---------------------------------------------------------------------------\u001b[39m",
      "\u001b[31mKeyError\u001b[39m                                  Traceback (most recent call last)",
      "\u001b[36mCell\u001b[39m\u001b[36m \u001b[39m\u001b[32mIn[15]\u001b[39m\u001b[32m, line 3\u001b[39m\n\u001b[32m      1\u001b[39m points = []\n\u001b[32m      2\u001b[39m \u001b[38;5;28;01mfor\u001b[39;00m i, tbl_info \u001b[38;5;129;01min\u001b[39;00m \u001b[38;5;28menumerate\u001b[39m(db_docs[\u001b[33m'\u001b[39m\u001b[33mdatabase_docs\u001b[39m\u001b[33m'\u001b[39m][\u001b[33m'\u001b[39m\u001b[33mtables\u001b[39m\u001b[33m'\u001b[39m].values()):\n\u001b[32m----> \u001b[39m\u001b[32m3\u001b[39m     tbl_name = \u001b[43mtbl_info\u001b[49m\u001b[43m[\u001b[49m\u001b[33;43m'\u001b[39;49m\u001b[33;43mname\u001b[39;49m\u001b[33;43m'\u001b[39;49m\u001b[43m]\u001b[49m\n\u001b[32m      4\u001b[39m     desc = tbl_info[\u001b[33m'\u001b[39m\u001b[33mdescription\u001b[39m\u001b[33m'\u001b[39m]\n\u001b[32m      5\u001b[39m     fields = tbl_info[\u001b[33m'\u001b[39m\u001b[33mfields\u001b[39m\u001b[33m'\u001b[39m]\n",
      "\u001b[31mKeyError\u001b[39m: 'name'"
     ]
    }
   ],
   "source": [
    "points = []\n",
    "for i, tbl_info in enumerate(db_docs['database_docs']['tables'].values()):\n",
    "    tbl_name = tbl_info['name']\n",
    "    desc = tbl_info['description']\n",
    "    fields = tbl_info['fields']\n",
    "    relations = tbl_info['relations']\n",
    "\n",
    "    fields_str = \"\"\n",
    "    for f in fields:\n",
    "        for k, v in f.items():\n",
    "            fields_str += f\"{k}: {v}\\n\"\n",
    "\n",
    "    relations_str = \"\\n\".join(relations)\n",
    "    \n",
    "    content = \"\"\n",
    "    content = f\"Table: {tbl_name}\\nDescription: {desc}\\nFields:\\n{fields_str}\\nRelations:\\n{relations_str}\\n\"\n",
    "\n",
    "    point = PointStruct(\n",
    "        id=i,\n",
    "        vector=embeddings.embed_query(content),\n",
    "        payload={\n",
    "            \"name\": tbl_name,\n",
    "            \"description\": desc,\n",
    "            \"fields\": fields_str.split(\"\\n\"),\n",
    "            \"relations\": relations\n",
    "        }\n",
    "    )\n",
    "    points.append(point)\n"
   ]
  },
  {
   "cell_type": "code",
   "execution_count": null,
   "id": "6c4912ee",
   "metadata": {},
   "outputs": [],
   "source": [
    "qdrant_client  = QdrantClient(url=os.getenv(\"QDRANT_URL\"))"
   ]
  },
  {
   "cell_type": "code",
   "execution_count": null,
   "id": "58d1749a",
   "metadata": {},
   "outputs": [
    {
     "name": "stdout",
     "output_type": "stream",
     "text": [
      "Collection already created\n"
     ]
    }
   ],
   "source": [
    "COL_NAME = \"CM-DB-KNOWLEDGE\"\n",
    "if not qdrant_client.collection_exists(collection_name=COL_NAME): \n",
    "    qdrant_client.create_collection(\n",
    "        collection_name=COL_NAME,\n",
    "        vectors_config=VectorParams(size=1024, distance=Distance.COSINE),\n",
    "        # optional: tune shards, replication_factor, etc.\n",
    "    )\n",
    "else:\n",
    "    print(\"Collection already created\")"
   ]
  },
  {
   "cell_type": "code",
   "execution_count": null,
   "id": "ad9fa7af",
   "metadata": {},
   "outputs": [
    {
     "data": {
      "text/plain": [
       "UpdateResult(operation_id=4, status=<UpdateStatus.COMPLETED: 'completed'>)"
      ]
     },
     "execution_count": 8,
     "metadata": {},
     "output_type": "execute_result"
    }
   ],
   "source": [
    "qdrant_client.upsert(collection_name=COL_NAME, points=points)"
   ]
  },
  {
   "cell_type": "code",
   "execution_count": null,
   "id": "d06bbb80",
   "metadata": {},
   "outputs": [],
   "source": [
    "q = \"Get the process status of the latest RFI\""
   ]
  },
  {
   "cell_type": "code",
   "execution_count": null,
   "id": "5f9bfa72",
   "metadata": {},
   "outputs": [
    {
     "data": {
      "text/plain": [
       "[ScoredPoint(id=0, version=4, score=0.33966917, payload={'name': 'document_document', 'description': 'document_document is the master table for all document types (RFI, Submittal, Inspection).   By itself, document_document refers to an RFI.   When joined with document_submittal, it represents a Submittal.   When joined with document_inspection, it represents an Inspection.\\n', 'fields': ['id: [BIGINT] Primary key', 'deleted: [TIMESTAMP] Indicates when this object was deleted', 'created_at: [TIMESTAMP] Date and time when this object was created', 'code: [VARCHAR(50)] Unique code for this document', 'title: [VARCHAR(255)] Title of this document', 'type: [INTEGER] ENUM type of this document (0 = RFI, 1 = Submittal, 2 = Inspection)', 'process: [INTEGER] ENUM for the process status of each document type (0 = Draft, 1 = Review, 2 = Open, 3 = Waiting for Manager, 4 = Closed)', 'status: [INTEGER] ENUM for the task decision of each document type (0 = Invalid, 1 = Pending, 2 = In Process, 3 = Approved, 4 = Approved as Note, 5 = Rejected, 6 = Rejected as Note, 7 = Deleted)', 'due_date: [TIMESTAMP] Due date of the document (applies to RFI, Submittal, and Inspection)', 'schedule_impact: [DOUBLE PRECISION] Number of days this document impacts the project schedule', 'cost_impact: [DOUBLE PRECISION] Amount this document impacts the project cost (default in USD)', 'drawing_number: [VARCHAR(255)] Reference drawing number for this document (if any). Used to associate multiple documents with a single drawing', 'cycle: [INTEGER] Number of times this document has been revised', 'is_private: [BOOLEAN] Indicates whether this document is private', 'description: [TEXT] Field for additional information about this document', 'created_by_id: [INTEGER] the id of user who created this document. This is a foreign key to auth_user.id (document_document.created_by_id → auth_user.id)', 'discipline_id: [BIGINT] the id of discipline of this document. This is a foreign key to company_discipline.id (document_document.discipline_id → company_discipline.id)', 'location_id: [BIGINT] the id of location of this document. This is a foreign key to project_location.id (document_document.location_id → project_location.id)', 'project_id: [BIGINT] the id of project of this document. This is a foreign key to project_project.id (document_document.project_id → project_project.id)', 'specification_id: [BIGINT] the id of specification of this document. This is a foreign key to project_specification.id (document_document.specification_id → project_specification.id)', 'template_id: [BIGINT] the id of template of this document. This is a foreign key to document_template.id (document_document.template_id → document_template.id)', 'updated_by_id: [BIGINT] the id of user who updated this document. This is a foreign key to auth_user.id (document_document.updated_by_id → auth_user.id)', 'received_from_id: [BIGINT] the id of user who received this document. This is a foreign key to auth_user.id (document_document.received_from_id → auth_user.id)', 'inspection_test_plan_id: [BIGINT] the id', 'responsible_contractor_id: [BIGINT] the id of responsible contractor of this document. This is a foreign key to company_contractor.id (document_document.responsible_contractor_id → company_contractor.id)', 'is_recently_rejected: [BOOLEAN] the recently rejected flag of this document indicates if this document has been recently rejected. This is used to highlight the document in the document list', 'floor_plan_id: [BIGINT] the id of floor plan of this document. This is a foreign key to project_floorplan.id (document_document.floor_plan_id → project_floorplan.id)', ''], 'relations': ['document_document.created_by_id → auth_user.id', 'document_document.discipline_id → company_discipline.id', 'document_document.floor_plan_id → project_floorplan.id', 'document_document.inspection_test_plan_id → inspection_test_plan_inspectiontestplan.id', 'document_document.location_id → project_location.id', 'document_document.project_id → project_project.id', 'document_document.received_from_id → auth_user.id', 'document_document.responsible_contractor_id → company_contractor.id', 'document_document.specification_id → project_specification.id', 'document_document.template_id → document_template.id', 'document_document.updated_by_id → auth_user.id']}, vector=None, shard_key=None, order_value=None),\n",
       " ScoredPoint(id=1, version=4, score=0.32369265, payload={'name': 'document_submittal', 'description': 'document_submittal is an extension of table::document_document for submittals.  It contains additional fields such as document_number, rev, due_date, status,  response, response_date, round, cycle, is_latest, created_by_id, document_id,  updated_by_id, user_id, and rejected_to.  Used for managing and tracking submittal-specific information.\\n', 'fields': ['id: [BIGINT] Primary key', 'document_number: [VARCHAR(155)] User-defined document number for this submittal, used to track and identify the submittal document', 'rev: [VARCHAR(2)] Revision of this submittal document, uniquely identifying each version of the same document number', 'due_date: [TIMESTAMP] Due date set by the submittal’s initiator', 'status: [INTEGER] Status of the submittal’s initiator (0 = Pending, 1 = Approved, 2 = Approved as Note, 3 = Rejected, 4 = Rejected as Note, 5 = Change BIC)', 'response: [TEXT] Acknowledgment or response message from the initiator who received this submittal', 'response_date: [TIMESTAMP] Date and time when the initiator responded to this submittal', 'round: [INTEGER] Number of times this submittal has been rejected in the workflow. Each rejection increases the round by 1 and starts a new cycle', 'cycle: [INTEGER] Number of times this submittal has been revised', 'created_by_id: [INTEGER] the id of user who created this submittal. This is a foreign key to auth_user.id (document_submittal.created_by_id → auth_user.id)', 'document_id: [BIGINT] the id of document of this submittal. This is a foreign key to document_document.id (document_submittal.document_id → document_document.id)', 'updated_by_id: [INTEGER] the id of user who updated this submittal. This is a foreign key to auth_user.id (document_submittal.updated_by_id → auth_user.id)', 'user_id: [INTEGER] the id of initiator of this submittal. This is a foreign key to auth_user.id (document_submittal.user_id → auth_user.id)', 'rejected_to: [VARCHAR(20)] the rejected to of this submittal is a enum field to indicate the step that this submittal has been rejected to. (values are: manager, initiator, originator, assignee (integer convertable value indicates what is step in workflow that rejected to))', ''], 'relations': ['document_submittal.created_by_id → auth_user.id', 'document_submittal.document_id → document_document.id', 'document_submittal.updated_by_id → auth_user.id', 'document_submittal.user_id → auth_user.id']}, vector=None, shard_key=None, order_value=None)]"
      ]
     },
     "execution_count": 10,
     "metadata": {},
     "output_type": "execute_result"
    }
   ],
   "source": [
    "resp = qdrant_client.query_points(\n",
    "    collection_name=COL_NAME,\n",
    "    query=embeddings.embed_query(q),\n",
    "    search_params=models.SearchParams(hnsw_ef=128, exact=False),\n",
    "    limit=2,\n",
    "    query_filter=models.Filter(\n",
    "        must_not=[\n",
    "            models.FieldCondition(\n",
    "                key='name', \n",
    "                match=models.MatchText(text=\"company_company\")  # substring match\n",
    "            ),\n",
    "            models.FieldCondition(\n",
    "                key='name', \n",
    "                match=models.MatchText(text=\"project_project\")  # substring match\n",
    "            ),\n",
    "        ],\n",
    "    )\n",
    ")\n",
    "\n",
    "resp.points"
   ]
  },
  {
   "cell_type": "code",
   "execution_count": null,
   "id": "1b7f228a",
   "metadata": {},
   "outputs": [
    {
     "data": {
      "text/plain": [
       "[{'name': 'document_document',\n",
       "  'description': 'document_document is the master table for all document types (RFI, Submittal, Inspection).   By itself, document_document refers to an RFI.   When joined with document_submittal, it represents a Submittal.   When joined with document_inspection, it represents an Inspection.\\n',\n",
       "  'fields': ['id: [BIGINT] Primary key',\n",
       "   'deleted: [TIMESTAMP] Indicates when this object was deleted',\n",
       "   'created_at: [TIMESTAMP] Date and time when this object was created',\n",
       "   'code: [VARCHAR(50)] Unique code for this document',\n",
       "   'title: [VARCHAR(255)] Title of this document',\n",
       "   'type: [INTEGER] ENUM type of this document (0 = RFI, 1 = Submittal, 2 = Inspection)',\n",
       "   'process: [INTEGER] ENUM for the process status of each document type (0 = Draft, 1 = Review, 2 = Open, 3 = Waiting for Manager, 4 = Closed)',\n",
       "   'status: [INTEGER] ENUM for the task decision of each document type (0 = Invalid, 1 = Pending, 2 = In Process, 3 = Approved, 4 = Approved as Note, 5 = Rejected, 6 = Rejected as Note, 7 = Deleted)',\n",
       "   'due_date: [TIMESTAMP] Due date of the document (applies to RFI, Submittal, and Inspection)',\n",
       "   'schedule_impact: [DOUBLE PRECISION] Number of days this document impacts the project schedule',\n",
       "   'cost_impact: [DOUBLE PRECISION] Amount this document impacts the project cost (default in USD)',\n",
       "   'drawing_number: [VARCHAR(255)] Reference drawing number for this document (if any). Used to associate multiple documents with a single drawing',\n",
       "   'cycle: [INTEGER] Number of times this document has been revised',\n",
       "   'is_private: [BOOLEAN] Indicates whether this document is private',\n",
       "   'description: [TEXT] Field for additional information about this document',\n",
       "   'created_by_id: [INTEGER] the id of user who created this document. This is a foreign key to auth_user.id (document_document.created_by_id → auth_user.id)',\n",
       "   'discipline_id: [BIGINT] the id of discipline of this document. This is a foreign key to company_discipline.id (document_document.discipline_id → company_discipline.id)',\n",
       "   'location_id: [BIGINT] the id of location of this document. This is a foreign key to project_location.id (document_document.location_id → project_location.id)',\n",
       "   'project_id: [BIGINT] the id of project of this document. This is a foreign key to project_project.id (document_document.project_id → project_project.id)',\n",
       "   'specification_id: [BIGINT] the id of specification of this document. This is a foreign key to project_specification.id (document_document.specification_id → project_specification.id)',\n",
       "   'template_id: [BIGINT] the id of template of this document. This is a foreign key to document_template.id (document_document.template_id → document_template.id)',\n",
       "   'updated_by_id: [BIGINT] the id of user who updated this document. This is a foreign key to auth_user.id (document_document.updated_by_id → auth_user.id)',\n",
       "   'received_from_id: [BIGINT] the id of user who received this document. This is a foreign key to auth_user.id (document_document.received_from_id → auth_user.id)',\n",
       "   'inspection_test_plan_id: [BIGINT] the id',\n",
       "   'responsible_contractor_id: [BIGINT] the id of responsible contractor of this document. This is a foreign key to company_contractor.id (document_document.responsible_contractor_id → company_contractor.id)',\n",
       "   'is_recently_rejected: [BOOLEAN] the recently rejected flag of this document indicates if this document has been recently rejected. This is used to highlight the document in the document list',\n",
       "   'floor_plan_id: [BIGINT] the id of floor plan of this document. This is a foreign key to project_floorplan.id (document_document.floor_plan_id → project_floorplan.id)',\n",
       "   ''],\n",
       "  'relations': ['document_document.created_by_id → auth_user.id',\n",
       "   'document_document.discipline_id → company_discipline.id',\n",
       "   'document_document.floor_plan_id → project_floorplan.id',\n",
       "   'document_document.inspection_test_plan_id → inspection_test_plan_inspectiontestplan.id',\n",
       "   'document_document.location_id → project_location.id',\n",
       "   'document_document.project_id → project_project.id',\n",
       "   'document_document.received_from_id → auth_user.id',\n",
       "   'document_document.responsible_contractor_id → company_contractor.id',\n",
       "   'document_document.specification_id → project_specification.id',\n",
       "   'document_document.template_id → document_template.id',\n",
       "   'document_document.updated_by_id → auth_user.id']},\n",
       " {'name': 'document_submittal',\n",
       "  'description': 'document_submittal is an extension of table::document_document for submittals.  It contains additional fields such as document_number, rev, due_date, status,  response, response_date, round, cycle, is_latest, created_by_id, document_id,  updated_by_id, user_id, and rejected_to.  Used for managing and tracking submittal-specific information.\\n',\n",
       "  'fields': ['id: [BIGINT] Primary key',\n",
       "   'document_number: [VARCHAR(155)] User-defined document number for this submittal, used to track and identify the submittal document',\n",
       "   'rev: [VARCHAR(2)] Revision of this submittal document, uniquely identifying each version of the same document number',\n",
       "   'due_date: [TIMESTAMP] Due date set by the submittal’s initiator',\n",
       "   'status: [INTEGER] Status of the submittal’s initiator (0 = Pending, 1 = Approved, 2 = Approved as Note, 3 = Rejected, 4 = Rejected as Note, 5 = Change BIC)',\n",
       "   'response: [TEXT] Acknowledgment or response message from the initiator who received this submittal',\n",
       "   'response_date: [TIMESTAMP] Date and time when the initiator responded to this submittal',\n",
       "   'round: [INTEGER] Number of times this submittal has been rejected in the workflow. Each rejection increases the round by 1 and starts a new cycle',\n",
       "   'cycle: [INTEGER] Number of times this submittal has been revised',\n",
       "   'created_by_id: [INTEGER] the id of user who created this submittal. This is a foreign key to auth_user.id (document_submittal.created_by_id → auth_user.id)',\n",
       "   'document_id: [BIGINT] the id of document of this submittal. This is a foreign key to document_document.id (document_submittal.document_id → document_document.id)',\n",
       "   'updated_by_id: [INTEGER] the id of user who updated this submittal. This is a foreign key to auth_user.id (document_submittal.updated_by_id → auth_user.id)',\n",
       "   'user_id: [INTEGER] the id of initiator of this submittal. This is a foreign key to auth_user.id (document_submittal.user_id → auth_user.id)',\n",
       "   'rejected_to: [VARCHAR(20)] the rejected to of this submittal is a enum field to indicate the step that this submittal has been rejected to. (values are: manager, initiator, originator, assignee (integer convertable value indicates what is step in workflow that rejected to))',\n",
       "   ''],\n",
       "  'relations': ['document_submittal.created_by_id → auth_user.id',\n",
       "   'document_submittal.document_id → document_document.id',\n",
       "   'document_submittal.updated_by_id → auth_user.id',\n",
       "   'document_submittal.user_id → auth_user.id']}]"
      ]
     },
     "execution_count": 11,
     "metadata": {},
     "output_type": "execute_result"
    }
   ],
   "source": [
    "[pt.payload for pt in resp.points]"
   ]
  },
  {
   "cell_type": "code",
   "execution_count": null,
   "id": "ded0942a",
   "metadata": {},
   "outputs": [],
   "source": []
  }
 ],
 "metadata": {
  "kernelspec": {
   "display_name": "venv",
   "language": "python",
   "name": "python3"
  },
  "language_info": {
   "codemirror_mode": {
    "name": "ipython",
    "version": 3
   },
   "file_extension": ".py",
   "mimetype": "text/x-python",
   "name": "python",
   "nbconvert_exporter": "python",
   "pygments_lexer": "ipython3",
   "version": "3.12.11"
  }
 },
 "nbformat": 4,
 "nbformat_minor": 5
}
