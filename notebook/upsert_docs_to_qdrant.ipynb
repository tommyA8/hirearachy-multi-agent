{
 "cells": [
  {
   "cell_type": "code",
   "execution_count": 51,
   "id": "6691d181",
   "metadata": {},
   "outputs": [],
   "source": [
    "import os\n",
    "import uuid\n",
    "import json\n",
    "import numpy as np\n",
    "from PIL import Image\n",
    "from pydantic import BaseModel\n",
    "from sqlalchemy import create_engine, MetaData\n",
    "\n",
    "from langchain_community.document_loaders import UnstructuredPDFLoader\n",
    "from langchain_community.document_loaders import PyPDFLoader\n",
    "from pprint import pprint\n",
    "\n",
    "from sentence_transformers import SentenceTransformer\n",
    "\n",
    "from langchain.utilities import SQLDatabase\n",
    "from langchain.agents import create_sql_agent\n",
    "from langchain.agents.agent_toolkits import SQLDatabaseToolkit\n",
    "from langchain.agents.agent_types import AgentType\n",
    "from langchain_ollama import OllamaEmbeddings\n",
    "from langchain.schema import Document\n",
    "from langchain.vectorstores import Qdrant\n",
    "\n",
    "from qdrant_client import QdrantClient, models\n",
    "from qdrant_client.http.models import PointStruct, VectorParams, Distance\n",
    "\n",
    "from dotenv import load_dotenv\n",
    "load_dotenv(override=True)\n",
    "\n",
    "import warnings\n",
    "warnings.filterwarnings(\"ignore\")\n",
    "\n",
    "import yaml"
   ]
  },
  {
   "cell_type": "code",
   "execution_count": 52,
   "id": "1c64ab57",
   "metadata": {},
   "outputs": [
    {
     "name": "stdout",
     "output_type": "stream",
     "text": [
      "dict_keys(['tables'])\n"
     ]
    }
   ],
   "source": [
    "with open(\"../docs/cm_db_knowledge.yaml\", \"r\") as f:\n",
    "    db_docs = yaml.safe_load(f)\n",
    "pprint(db_docs['database_docs'].keys())"
   ]
  },
  {
   "cell_type": "code",
   "execution_count": 53,
   "id": "bc4e7c84",
   "metadata": {},
   "outputs": [],
   "source": [
    "embeddings = OllamaEmbeddings(model=\"bge-m3:latest\")"
   ]
  },
  {
   "cell_type": "code",
   "execution_count": 54,
   "id": "35b57a34",
   "metadata": {},
   "outputs": [],
   "source": [
    "points = []\n",
    "for i, tbl_info in enumerate(db_docs['database_docs']['tables'].values()):\n",
    "    tbl_name = tbl_info['name']\n",
    "    desc = tbl_info['description']\n",
    "    fields = tbl_info['fields']\n",
    "    relations = tbl_info['relations']\n",
    "\n",
    "    fields_str = \"\"\n",
    "    for f in fields:\n",
    "        for k, v in f.items():\n",
    "            fields_str += f\"{k}: {v}\\n\"\n",
    "\n",
    "    relations_str = \"\\n\".join(relations)\n",
    "    \n",
    "    content = \"\"\n",
    "    content = f\"Table: {tbl_name}\\nDescription: {desc}\\nFields:\\n{fields_str}\\nRelations:\\n{relations_str}\\n\"\n",
    "\n",
    "    point = PointStruct(\n",
    "        id=i,\n",
    "        vector=embeddings.embed_query(content),\n",
    "        payload={\n",
    "            \"name\": tbl_name,\n",
    "            \"description\": desc,\n",
    "            \"fields\": fields_str.split(\"\\n\"),\n",
    "            \"relations\": relations\n",
    "        }\n",
    "    )\n",
    "    points.append(point)\n"
   ]
  },
  {
   "cell_type": "code",
   "execution_count": 55,
   "id": "6c4912ee",
   "metadata": {},
   "outputs": [],
   "source": [
    "qdrant_client  = QdrantClient(url=os.getenv(\"QDRANT_URL\"))"
   ]
  },
  {
   "cell_type": "code",
   "execution_count": 56,
   "id": "58d1749a",
   "metadata": {},
   "outputs": [
    {
     "name": "stdout",
     "output_type": "stream",
     "text": [
      "Collection already created\n"
     ]
    }
   ],
   "source": [
    "COL_NAME = \"CM-DB-KNOWLEDGE\"\n",
    "if not qdrant_client.collection_exists(collection_name=COL_NAME): \n",
    "    qdrant_client.create_collection(\n",
    "        collection_name=COL_NAME,\n",
    "        vectors_config=VectorParams(size=1024, distance=Distance.COSINE),\n",
    "        # optional: tune shards, replication_factor, etc.\n",
    "    )\n",
    "else:\n",
    "    print(\"Collection already created\")"
   ]
  },
  {
   "cell_type": "code",
   "execution_count": 57,
   "id": "ad9fa7af",
   "metadata": {},
   "outputs": [
    {
     "data": {
      "text/plain": [
       "UpdateResult(operation_id=1, status=<UpdateStatus.COMPLETED: 'completed'>)"
      ]
     },
     "execution_count": 57,
     "metadata": {},
     "output_type": "execute_result"
    }
   ],
   "source": [
    "qdrant_client.upsert(collection_name=COL_NAME, points=points)"
   ]
  },
  {
   "cell_type": "code",
   "execution_count": 58,
   "id": "d06bbb80",
   "metadata": {},
   "outputs": [],
   "source": [
    "q = \"Does the status of latest RFI is draft?\""
   ]
  },
  {
   "cell_type": "code",
   "execution_count": 59,
   "id": "5f9bfa72",
   "metadata": {},
   "outputs": [
    {
     "data": {
      "text/plain": [
       "[ScoredPoint(id=0, version=1, score=0.28427514, payload={'name': 'document_document', 'description': 'document_document is a master table for all document types (RFI, Submittal, Inspection).\\n', 'fields': ['id: [BIGINT] Primary key', 'deleted: [TIMESTAMP] Indicates when this object was deleted', 'created_at: [TIMESTAMP] Date and time when this object was created', 'code: [VARCHAR(50)] Unique code for this document', 'title: [VARCHAR(255)] Title of this document', 'type: [INTEGER] ENUM type of this document (0 = RFI, 1 = Submittal, 2 = Inspection)', 'process: [INTEGER] ENUM for the process status of each document type (0 = Draft, 1 = Review, 2 = Open, 3 = Waiting for Manager, 4 = Closed)', 'status: [INTEGER] ENUM for the task decision of each document type (0 = Invalid, 1 = Pending, 2 = In Process, 3 = Approved, 4 = Approved as Note, 5 = Rejected, 6 = Rejected as Note, 7 = Deleted)', 'due_date: [TIMESTAMP] Due date of the document (applies to RFI, Submittal, and Inspection)', 'schedule_impact: [DOUBLE PRECISION] Number of days this document impacts the project schedule', 'cost_impact: [DOUBLE PRECISION] Amount this document impacts the project cost (default in USD)', 'drawing_number: [VARCHAR(255)] Reference drawing number for this document (if any). Used to associate multiple documents with a single drawing', 'cycle: [INTEGER] Number of times this document has been revised', 'is_private: [BOOLEAN] Indicates whether this document is private', 'description: [TEXT] Field for additional information about this document', 'created_by_id: [INTEGER] the id of user who created this document. This is a foreign key to auth_user.id (document_document.created_by_id → auth_user.id)', 'discipline_id: [BIGINT] the id of discipline of this document. This is a foreign key to company_discipline.id (document_document.discipline_id → company_discipline.id)', 'location_id: [BIGINT] the id of location of this document. This is a foreign key to project_location.id (document_document.location_id → project_location.id)', 'project_id: [BIGINT] the id of project of this document. This is a foreign key to project_project.id (document_document.project_id → project_project.id)', 'specification_id: [BIGINT] the id of specification of this document. This is a foreign key to project_specification.id (document_document.specification_id → project_specification.id)', 'template_id: [BIGINT] the id of template of this document. This is a foreign key to document_template.id (document_document.template_id → document_template.id)', 'updated_by_id: [BIGINT] the id of user who updated this document. This is a foreign key to auth_user.id (document_document.updated_by_id → auth_user.id)', 'received_from_id: [BIGINT] the id of user who received this document. This is a foreign key to auth_user.id (document_document.received_from_id → auth_user.id)', 'inspection_test_plan_id: [BIGINT] the id', 'responsible_contractor_id: [BIGINT] the id of responsible contractor of this document. This is a foreign key to company_contractor.id (document_document.responsible_contractor_id → company_contractor.id)', 'is_recently_rejected: [BOOLEAN] the recently rejected flag of this document indicates if this document has been recently rejected. This is used to highlight the document in the document list', 'floor_plan_id: [BIGINT] the id of floor plan of this document. This is a foreign key to project_floorplan.id (document_document.floor_plan_id → project_floorplan.id)', ''], 'relations': ['document_document.created_by_id → auth_user.id', 'document_document.discipline_id → company_discipline.id', 'document_document.floor_plan_id → project_floorplan.id', 'document_document.inspection_test_plan_id → inspection_test_plan_inspectiontestplan.id', 'document_document.location_id → project_location.id', 'document_document.project_id → project_project.id', 'document_document.received_from_id → auth_user.id', 'document_document.responsible_contractor_id → company_contractor.id', 'document_document.specification_id → project_specification.id', 'document_document.template_id → document_template.id', 'document_document.updated_by_id → auth_user.id']}, vector=None, shard_key=None, order_value=None)]"
      ]
     },
     "execution_count": 59,
     "metadata": {},
     "output_type": "execute_result"
    }
   ],
   "source": [
    "resp = qdrant_client.query_points(\n",
    "    collection_name=COL_NAME,\n",
    "    query=embeddings.embed_query(q),\n",
    "    search_params=models.SearchParams(hnsw_ef=128, exact=False),\n",
    "    limit=1,\n",
    ")\n",
    "\n",
    "resp.points"
   ]
  }
 ],
 "metadata": {
  "kernelspec": {
   "display_name": "venv",
   "language": "python",
   "name": "python3"
  },
  "language_info": {
   "codemirror_mode": {
    "name": "ipython",
    "version": 3
   },
   "file_extension": ".py",
   "mimetype": "text/x-python",
   "name": "python",
   "nbconvert_exporter": "python",
   "pygments_lexer": "ipython3",
   "version": "3.12.11"
  }
 },
 "nbformat": 4,
 "nbformat_minor": 5
}
