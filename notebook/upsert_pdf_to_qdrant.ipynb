{
 "cells": [
  {
   "cell_type": "code",
   "execution_count": 17,
   "id": "d2d98a9f",
   "metadata": {},
   "outputs": [],
   "source": [
    "# !pip install -q unstructured"
   ]
  },
  {
   "cell_type": "code",
   "execution_count": 18,
   "id": "b0d2e758",
   "metadata": {},
   "outputs": [],
   "source": [
    "# !pip install -q pdfminer"
   ]
  },
  {
   "cell_type": "code",
   "execution_count": 19,
   "id": "1b9c0153",
   "metadata": {},
   "outputs": [],
   "source": [
    "# !pip install --upgrade -q unstructured"
   ]
  },
  {
   "cell_type": "code",
   "execution_count": 20,
   "id": "0038cb8d",
   "metadata": {},
   "outputs": [],
   "source": [
    "import os\n",
    "import uuid\n",
    "import json\n",
    "import numpy as np\n",
    "from PIL import Image\n",
    "from pydantic import BaseModel\n",
    "from sqlalchemy import create_engine, MetaData\n",
    "\n",
    "from langchain_community.document_loaders import UnstructuredPDFLoader\n",
    "from langchain_community.document_loaders import PyPDFLoader\n",
    "from pprint import pprint\n",
    "\n",
    "from sentence_transformers import SentenceTransformer\n",
    "\n",
    "from langchain.utilities import SQLDatabase\n",
    "from langchain.agents import create_sql_agent\n",
    "from langchain.agents.agent_toolkits import SQLDatabaseToolkit\n",
    "from langchain.agents.agent_types import AgentType\n",
    "from langchain_ollama import OllamaEmbeddings\n",
    "from langchain.schema import Document\n",
    "from langchain.vectorstores import Qdrant\n",
    "\n",
    "from qdrant_client import QdrantClient\n",
    "from qdrant_client.http.models import PointStruct, VectorParams, Distance\n",
    "\n",
    "from dotenv import load_dotenv\n",
    "load_dotenv(override=True)\n",
    "\n",
    "import warnings\n",
    "warnings.filterwarnings(\"ignore\")"
   ]
  },
  {
   "cell_type": "markdown",
   "id": "5f809e22",
   "metadata": {},
   "source": [
    "# Process User Manual PDF and Save as JSON"
   ]
  },
  {
   "cell_type": "code",
   "execution_count": 21,
   "id": "b6662e6f",
   "metadata": {},
   "outputs": [],
   "source": [
    "# file_path = \"../docs/Sitearound User Manual - 2025.pdf\"\n",
    "\n",
    "# loader = PyPDFLoader(file_path,\n",
    "#                      mode=\"page\")"
   ]
  },
  {
   "cell_type": "code",
   "execution_count": 22,
   "id": "7890bb68",
   "metadata": {},
   "outputs": [],
   "source": [
    "# docs = []\n",
    "# for doc in loader.lazy_load():\n",
    "#     docs.append(doc)"
   ]
  },
  {
   "cell_type": "code",
   "execution_count": 23,
   "id": "a45c58ba",
   "metadata": {},
   "outputs": [],
   "source": [
    "# user_manual_dict = {\n",
    "#     'title': [],\n",
    "#     'content': [],\n",
    "# }\n",
    "\n",
    "# signle_page_content = \"\"\n",
    "# titles = []\n",
    "# n = 1\n",
    "# for i, page in enumerate(docs):\n",
    "#     if i < 5:  # Skip first 5 pages\n",
    "#         continue\n",
    "\n",
    "#     content = page.page_content.split(\"\\n\")\n",
    "\n",
    "#     # Remove the first 4 lines (header)\n",
    "#     content = content[4::]\n",
    "\n",
    "#     # Strip leading/trailing whitespace from each line\n",
    "#     content = [line.strip() for line in content]\n",
    "    \n",
    "#     for c in content:\n",
    "#         if f\"Chapter {n}\" in c:\n",
    "#             titles.append(c)\n",
    "#             signle_page_content += f\"\\nPage: \"\n",
    "#             n += 1\n",
    "\n",
    "#     signle_page_content += \" \".join(content)\n"
   ]
  },
  {
   "cell_type": "code",
   "execution_count": 24,
   "id": "e5f7db08",
   "metadata": {},
   "outputs": [],
   "source": [
    "# from typing import List\n",
    "\n",
    "\n",
    "# data: List[dict] = []\n",
    "# contents = signle_page_content.split(\"Page: \")[1:]\n",
    "\n",
    "# for title, content in zip(titles, contents):\n",
    "#     data.append({\n",
    "#         \"title\": title,\n",
    "#         \"content\": content\n",
    "#     })\n"
   ]
  },
  {
   "cell_type": "code",
   "execution_count": 25,
   "id": "edd20ea7",
   "metadata": {},
   "outputs": [],
   "source": [
    "# import json\n",
    "\n",
    "# json_object = json.dumps(data, indent=4)\n",
    "# with open(\"../docs/user_manual.json\", \"w\") as outfile:\n",
    "#     outfile.write(json_object)"
   ]
  },
  {
   "cell_type": "markdown",
   "id": "852a485c",
   "metadata": {},
   "source": [
    "# Prepare data for vector store"
   ]
  },
  {
   "cell_type": "code",
   "execution_count": 26,
   "id": "bb5de65d",
   "metadata": {},
   "outputs": [],
   "source": [
    "embeddings = OllamaEmbeddings(model=\"bge-m3:latest\")"
   ]
  },
  {
   "cell_type": "code",
   "execution_count": 27,
   "id": "e2246a98",
   "metadata": {},
   "outputs": [
    {
     "data": {
      "text/plain": [
       "[{'title': 'Chapter 1 Corporate',\n",
       "  'content': 'Chapter 1 Corporate Sitearound has two levels: Corporate and Project. The Project level grants users access to individual projects, while the Corporate level enables leaders to access multiple projects and create new ones.  1.1 Main Menu At the Corporate level, you can do everything available at the Project level, plus access all your projects within the account and manage users. This includes setting up permission templates to control user access to different tools in Sitearound.1.2 Directory Overview 1. To view and manage users and companies in Sitearound account, click a “Directory” option on the side menu.   2. Users can be viewed by selecting either under the “Users” or “Company” tab at the top of the page.1.3 Create New User 1. To add a new user, click a “Directory” option on the side menu.   2. In a “Directory” page, click “Create User” button on the top right of the page.3. Enter user information, then click a “Create” button on the top right of the page to add user.   1.4 Edit User 1. To edit user information, click a “Directory” option on the side menu.2. In a “Directory” page, click a “ ” button and choose “Edit” option.   3. After completing the edits, click the “Edit” button at the top right of the page1.5 Delete User 1. To deactivite a inactive user, click a “Directory” menu on the side menu.   2. In a “Directory” page, click a “ ” button and choose “Delete” option.3. Confirm the deletion.   1.6 Create Project 1. To create a new project, click a “Create Project” option on the side menu.2. Enter the project information, select project type, enter value of the project and other mandatory fields. Then click a “Create” button on the top right of the page.   1.7 Create Discipline 1. To create a discipline, Click “Discipline” menu on the side menu.2. Then click a “Create Discipline” button on the top right of the page.   3. Enter discipline name and code, then click a “Create” button on the top right of the page.1.8 View and Edit Discipline 1. To view the discipline, click a “Discipline” menu on the side menu.   2. Then you will be able to view a full list of disciplines with its details.3. To edit a discipline, click a “ ” icon and click “Edit”.   4. After completing the edits, click the “Edit” button at the top right of the page.5. To delete a discipline, click a “ ” icon and click “Delete”.   6. Comfirm the deletion.1.9 Permission Overview 1. Click a “Permission” option on the side menu.   2. To edit and see the permission, click a “ ” icon and click “Edit”.3. There are 4 standard level of permission which are Not Allowed, View Only, General, and Admin. Only administrators can create a new template, edit and delete this permission tool.   1.10 Create Permission 1. To create new permission, click “Permission” option on the side menu.2. Then click “Create” button on the top right of the page.   3. Enter the position name and select the permission level ranging for each tool.4. After finish, click “Create” button on the top right of the page.   1.11 View and Edit Permission 1. To view the permission, click “Permission” menu on the side menu.2. To edit the permission, click a “ ” icon and click “Edit”.   3. After complete editing the permission level, click a “Create” button on the top right of the page.\\n'},\n",
       " {'title': 'Chapter 4 Document',\n",
       "  'content': 'Chapter 4 Document All documents and files are conveniently centralized in a single location. Sitearound also offers a unique feature that allows older documents to be seamlessly replaced with newer versions, helping to prevent confusion and eliminate duplication.  4.1 Document Overview Sitearound’s Document feature functions as both a storage system and a document management tool. It allows you to create organized folders and subfolders, while its version control capabili ty ensures that document updates are properly tracked and managed.This means the latest version of the document that is edited or uploaded, it will replace to the older ones preventing confusion. It also allows you to view older versions of the document.   The Document tool helps you to store all project -related documents in a centralized location including project schedules, design drawings, reports, pictures, and etc.4.2 View and Download Documents 1. To download a document, click a “Document” option on the side menu.   2. Then, click to the folder that the document located in.3. Click a “ ” icon there will be drop -down section and click “Download”. The document will be downloaded to your computer.   4. To view a document, click a “Document” menu on the side menu.5. Then, click to the folder that the document located in.   6. Click to the document’s name. The document will then appear.4.3 Create Folder 1. To create a folder, click a “Document” option on the side menu.   2. Then, choose the hierarchy you wish to add the folder into.3.  Click the “Create Folder” button on the top right of the page.   4. Name the folder as you please, then click “OK” to create your folder.4.4 Upload Document 1. To upload a document, click a “Document” menu on the side menu.   2. Select the folder you wish to store the file in.3. Then, click the “Click to Upload” button on the top right of the page.   4. Choose the file you wish to upload from your computer.5. Then your file will be uploaded automatically to Sitearound.   4.5 Rename, Move and Delete Document  Rename 1. To rename the file, click a “ ” icon and click “Rename”.2. Enter a new name in the pop-up window and click “OK” to confirm.   Move 1. To move a file to a different folder, click a “ ” icon.2. Choose “Move to folder” from the dropdown options menu.   3. A pop-up window will display a list of folders to shift this file to.4. Click “OK” to complete moving the file.   History 1. To view the history of a file, click a “ ” icon.2. Choose “History” from the dropdown options menu.   3. All the history of that specific file will be displayed.Delete 1. To delete file, click a “ ” icon.   2. Choose “Delete” from the dropdown options menu.3. Confirm the deletion.   4.6 Upload New Document Version 1. To upload a new document version, click a “Document” menu on the side menu.2. Click “Files Version” icon on the right of the file you wish to create a new version of.   3. To upload new version of the files, click “Click to Upload” on the top left side of the pop-up window.4. Next, choose a file you wish to upload, click “Open”.   View Version History 1. To check file’s version history, click the vertical ellipses icon on the right of a file. click a “ ” icon.2. Choose “File Version” from the dropdown options menu.   3. All file versions will be displayed. You can download a file to your computer by clicking on its name4. The popup window will appear. Click the icon “ ” on the top right side of the popup to download the lasting version.\\n'},\n",
       " {'title': 'Chapter 5 RFI (Request for Information)',\n",
       "  'content': 'Chapter 5 RFI (Request for Information) Sitearound’s RFI tool aims to facilitate communications among project stakeholders.  5.1 RFI Overview 1. Click “Request for Information” option on the side menu.2. All of the Request for Information items will be displayed, you can click on “Document Code” to view their details . 5.2 Create RFI 1. To create a Request for Information, click “Request for Information” option on the side menu.2. Click “Create” on the top right of the table.   3. Fill in the necessary information in the General Information section.  4. When complete, click “Create” button on the top-right of the page to create the RFI, or click “Draft” button to save it as a drafted RFI for later actions.5.3 Edit RFI 1. To edit Request for Information, click “Request for Information” option on the side menu.   2. Click “ ” icon on the left of each Request for Information and choose “Edit” to edit the RFI3. After complete edition, click “Edit” button on the top right of the page.   5.4 Delete RFI 1. To delete an RFI, click “RFI” option on the side menu.2. Click “ ” icon on the left of each Request for Information and choose “Delete” to delete the RFI   3. Confirm a deletion.5.5 RFI General Setting 1. To manage the RFI settings, click “RFI” menu on the side menu.   2. Click “Setting” icon on the top right of the page.3. The first section is the Default Setting which allows you to set up a Default RFI Manager to review all RFIs.   4. The next section is the Notification Setting that will notify through email.  This allows you to manage who will receive what RFI-related notifications.5. The final section is the Template Setting which allows you to customize the workflow of RFI templates.   6. Any changes will be saved when click “Save” button on the top-right of the section.5.6 Setup Default RFI Manager 1. To set up a default RFI manager, click “RFI” option on the side menu.   2. Click “Setting” icon on the top-right of the page.3. Select the person you’d like to name as the Default RFI Manager. \\\\ 4. Then, select the Duration (in days) that this person is required to review the RFI. • For example, if the duration is set to 5 that means the Default RFI Manager must approve the RFI within 5 days. If they don’t, it will be displayed as overdue.5. When complete, click “Save” button on the top right of the page.   5.7 RFI Email Notification Setting 1. To manage RFI notifications, click “RFI” menu on the side menu.2. Click “Setting” icon on the top right of the page.   3. Under the Email Notification Setting, the notification will notify according to the turn on button of that action.4. When complete, click “Save” button on the top-right of the page.   5.8 Set Up RFI Template 1. To set up RFI template, click “RFI” option on the side menu.2. Click “Setting” icon on the top right of the page.   3. Click “Create Template” button on the top-right of the Template section.4. Enter the details necessary to your template.   5. Under the Workflow section, add steps an RFI would have to pass through to gain approval. • You can add multiple steps and multiple participants in each step.6. When complete, click “Save” button on the top-right of the page.   5.9 Edit RFI Template 1. To edit an RFI template, click “RFI” menu on the side menu.2. Click “Setting” icon on the top right of the page.  3. Click “Edit” button on the left of each template.4. After complete edition, click “Save” button on the top-right of the page.   5.10 Delete RFI 1. To delete an RFI template, click “RFI” menu on the side menu.2. Click “Setting” icon on the top right of the page.   3. Click “Delete” icon on the right of each template.4. Confirm the deletion   5.11 Close RFI 1. To close an RFI, click “My Pending Items” under “Principle” on the side menu.2. Click on “Document Code” of the RFI item you wish to close.   3. User with role of assignee or manager can add additional comments or even mark ups to the file from this section.  4. The manager can mark the answer from each step as official answer for this RFI.  5. When complete, the manager can select “Approved” or “Rejected” to have the final decision on whether an RFI shall be closed. • Closing an RFI means it has already been answered.\\n'},\n",
       " {'title': 'Chapter 6 Submittal',\n",
       "  'content': 'Chapter 6 Submittal Submittal ensures documents, sketches, and files travel through an organized process for review. Submittals can be approved and rejected alo ng the way and the review process easily customizable with multiple reviewers and hierarchies to ensure efficiency.  6.1 Submittal Overview Sitearound’s Submittal tool facilitates the management of submittal packages, tracks the approval process, and controls all information in a single library.   Sitearound offers advanced workflow management capabilities, allowing users to create customized submittal templates tailored to various document types requiring approval. Each template is equipped with a comprehensive rejection rule engine that designates a responsible party whenever a document is rejected at any stage of the approval process.  Sitearound’s standard submittal workflow begins with the submittal originator creating a submittal item. The task is then routed to a review initiator for initial review and necessary revisions before being forwarded to the designated reviewers for further evaluation.  On Sitearound, you can specify a rejection rule, for example, if the fourth reviewer rejects the submittal, this submittal can go back to any previous reviewer. Additionally, Sitearound provides the reviewers with the ability to markup all files attached to the submittal so there is no need to manually save the files first in order to make comments and then re-upload them back to the system. Once all reviewers have completed their required actions, the Submittal Manager is responsible for closing the submittal. It is important to note that the Submittal Manager oversees the entire process, ensuring effective coordination and control of the submittal from initiation to completion.  6.2 View, Edit, and Delete Submittal View 1. To view a submittal, click “Submittal” menu on the left of the page.2. To view a submittal item, click the “Document Code” on the submittal item you wish to open.   3. Each submittal form includes essential information displayed at the bottom of the page: • General Information and Workflow: This section provides users with key details about the submittal item, including its general attributes and current status within the workflow.Edit 1. To edit a Submittal, click “Submittal” menu on the side menu.   4. To edit the file, click a “ ” icon and the option “Edit”.2. Sitearound will show all the information of that submittal and you will be prompted to ed it the information there.   3. In the Workflow section, you can add new steps by clicking the “Add Step” button, and assign users by selecting the “Add User” button.4. If you want to delete the assignees, simply click an “ ” button.   5. To confirm your deletion, click “Delete”.Delete 1. To delete a Submittal, click “Submittal” menu on the side menu.   2. To delete the submittal, click a “ ” icon and choose the option “Delete”.3. Click the red button to confirm the deletion.   4. This deleted submittal will still appear on the table with the process status of deleted. • The deleted submittal can be restored, resubmit, and view by clicking on a “ ” icon of the deleted files.6.3 Create Submittal 1. To create a submittal, click “Submittal” menu on the side menu.   2. Click the “Create” button on the top right of the page.3. Fill out the information required– at least the mandatory fields.   4. Then click the “Create” button on the top right of the page.6.4 Draft Submittal 1. To draft a submittal, click “Submittal” menu on the side menu.   2. Click the “Create” button on the top right of the page.3. Fill out the information required – at least the mandatory fields.   4. Click the “Draft” button located at the top right corner of the page. This action will save the submittal as a draft in Sitearound without sending it to the responsible parties. You can return to the draft at any time to add or modify information before final submission.5. On the Submittal main page, the drafted Submittal items in the system  will appear on the table with the process status of “Draft”.   6.5 Set Up Submittal Template 1. To set up a submittal template, click “Submittal” menu on the side menu.2. Click “Settings” icon on the top right of the page.   3. Go to the template section which is the third section on this page.4. Click “Create” button located at the top right corner of the Template section. • Please note that only users with Admin permission on the Submittal tool are authorized to create a Submittal template   5. Fill out your details. • This includes adding steps, users, and other customizations to your template.6. When complete, click “Save” button on the top right of the page.  6.6 Close Submittal 1. To close a Submittal, click “My Pending Items” under “Principle” menu on the side menu.  2. Click on the “Document Code” of the submittal item you wish to close.  3. The assignee and manager can add additional comments or even make mark ups to the file from here.4. When complete, the manager can select “Approved” or “Rejected” to have the final  decision on whether a Submittal shall be closed.   5. If you reject a submittal, you will have the options to determine what happens to the file next and to whom the document will rejected to.  6.7 Submittal Email Notification Setting 1. To manage submittal notifications, click “Submittal” menu on the side menu.2. Click “Setting” icon on the top right of the page.   3. Under the Notification Setting, select the boxes in the table to match your needs.4. When complete, click “Save” button on the top-right of the page.\\n'},\n",
       " {'title': 'Chapter 9 Inspection and Work Order',\n",
       "  'content': \"Chapter 9 Inspection and Work Order  9.1 Inspection Forms Users can view forms that had been created for individual project through “Forms” menu.   9.1.1 Creating form 1. To create form, click “Create” button.2. Enter form name and select discipline. Be reminded that the form will be linked to selected discipline only.   3. There will be 4 types of form template which are : • Pass / Fail = Inspectors can respond with Pass, Fail, or N/A. • Score = Inspectors can provide a score ranging from 1 to 5. • *Custom = Users can define the answer types for each checklist item. Answers can be fully customized in the Settings menu. • PDF =  Users can attach a PDF file  or insert PDF text fields  into the inspection form within Sitearound.  4. Then, enter information to all mandatory fields. • You can add title by clicking  on “ ” button and click on “ ” icon on the right side to the title in order to delete. • You can add section by clicking “ ” button.  5. Click “Create” to confirm your action.9.1.2 View Form To view a form, click “ ” icon on the left of the form, then select “View” from the drop-down menu.   9.1.3 Edit Form To edit a form, click “ ” icon on the left of the form, then select “Edit” from the drop-down menu.9.2 Custom Result 9.2.1 View Custom Result Lists 1. Click “Setting” icon on the top right of the page to go to custom result menu.   9.2.2 Creating Custom Result 1. Click “Create Custom Result” button on the top right of the page.2. Enter information to the fields following step by step below:  1. Enter Title Name 2. Enter Result Name into “Label Field”. 3. Click “+Add Label” to add more result. 4. Click Create button to confirm your set up.  9.2.3 Editing Custom Result To edit a custom result, click “ ” icon on the left of the form, then select “Edit” from the drop-down menu.9.2.4 Deleting Custom Result To delete a custom result, click “ ” icon on the left of the form, then select “Delete” from the drop- down menu.   9.2.5 How to select custom result while creating form. 1. Select custom option in Form Template Field.2. Choose the custom result that had been created.   9.3 Inspection Setting Users can configure default information, notificati on settings, and workflow templates for inspections by navigating to Quality Safety > Inspection and clicking the Settings icon.9.3.1 Specification of Inspection Setting 1. Default Settings – Define the default Inspection Manager and specify the number of days allocated for document review. 2. Email Notification Setting s – Enable notifications based on specific steps and actions within the inspection process. Note: These settings also apply to notifications received via the Web and Mobile Application.  3. Then, click “Save” to confirm setting.9.3.2 Creating Inspection Workflow Template 1. Click “Create” button to create workflow template.   2. Enter the template name and select the appropriate discipline—both fields are mandatory. Note: The template will be associated exclusively with the selected discipline.3. Enter description of this template and select distribution list which both fields are not mandatory.   4. Select a Form – The form options available will be based on the previously selected discipline. 5. Assign an Inspector and Inspection Duration  – Choose the inspector and define the inspection timeframe. 6. Add Assignees – Click ‘Add Step’ to include additional workflow steps. Multiple assignees can be added within the same step. Use the OR / AND option to define the step's logic and conditions. 7. Assign an Inspection Manager – Select the responsible inspection manager for the process.9.4 Creating Inspection 1. Go to Quality & Safety > Inspection to create inspection.   2. Click “Create”.3. Fill information in blank fields.   1. The fields with red asterisk must be filled. If template field is selected, inspector, due date, review workflow will be automatically generated as it was set in a setting. 2. Attach a File – Users can upload files in any format to Sitearound, with a maximum file size of 400 MB. Additionally, select the location to be select the inspected are you wish. 3. Select a Template Field – Once a template is selected, the associated form will be automatically generated. However, you may modify or replace the form if needed. 1  4. Workflow will be automatically generated if the template is selected and these fields are also available to edit.   2 3 49.5 How to do inspection tasks on Sitearound? 1. Go to “My Pending Item”.   2. Click at the blue link (Document Code) to view the task.3. Fill the result into the inspection form.   4. Add Comments or Attach Files  – Click the icon on the right side of the field to add a comment or attach a file. If an item fails and requires correction, users can generate a work order directly from the list by clicking on ‘ ’  icon to assign it to the responsible party.  5. Click “Submit” after inspector fill the result into all lists. Work Order Comment and Attached file9.6 Creating Work Order In a quality inspection task, if a defect is identified or the result does not m eet the specified criteria, the inspector can generate a work order directly to the responsible person to facilitate continued tracking of the defect status.  1. Create Work Order. There are multiple ways to create work order. • Create work order from inspection lists by clicking “Create Work Order” under the list.   • To create a work order, navigate to Quality Safety > Work Order, then click the “Create” button.2. User can set Default Setting, Notification, Defect Type through setting icon at the top right.  3. Fill information in the blank fields. After completion, click “Create” button on the top right of the page.   9.7 Work Order Setting  1 2  1. Default Settings - To set user who will be default manager in Work Order and set duration to reviewing or approving. 2. Email Notification Settings - To set notification for each role. 3. Template - To set workflow template, click at ‘Create’ button to create new template. 4. Defect Type - To set defect type, click at ‘Create’ button to create new defect type.               3 49.8 Deleting Inspection and Work Order Click “ ” icon on the left of the document, then select “Delete” from the drop-down.\\n\"}]"
      ]
     },
     "execution_count": 27,
     "metadata": {},
     "output_type": "execute_result"
    }
   ],
   "source": [
    "data = json.load(open(\"../docs/user_manual.json\"))\n",
    "data"
   ]
  },
  {
   "cell_type": "code",
   "execution_count": 28,
   "id": "dc71cc89",
   "metadata": {},
   "outputs": [],
   "source": [
    "points = []\n",
    "for i, d in enumerate(data):\n",
    "    title = d['title']\n",
    "    content = d['content']\n",
    "    point = PointStruct(\n",
    "        id=i,\n",
    "        vector=embeddings.embed_query(content),\n",
    "        payload={\"title\": \" \".join(title.split(\" \")[2::]), \"content\": content}\n",
    "    )\n",
    "    points.append(point)"
   ]
  },
  {
   "cell_type": "markdown",
   "id": "6f93c0fe",
   "metadata": {},
   "source": [
    "# Embeded"
   ]
  },
  {
   "cell_type": "code",
   "execution_count": 29,
   "id": "780c14cf",
   "metadata": {},
   "outputs": [],
   "source": [
    "qdrant_client  = QdrantClient(url=os.getenv(\"QDRANT_URL\"))"
   ]
  },
  {
   "cell_type": "code",
   "execution_count": 30,
   "id": "cd4771e9",
   "metadata": {},
   "outputs": [],
   "source": [
    "COL_NAME = \"CM-User-Manual\"\n",
    "if not qdrant_client.collection_exists(collection_name=COL_NAME): \n",
    "    qdrant_client.create_collection(\n",
    "        collection_name=COL_NAME,\n",
    "        vectors_config=VectorParams(size=1024, distance=Distance.COSINE),\n",
    "        # optional: tune shards, replication_factor, etc.\n",
    "    )\n",
    "else:\n",
    "    print(\"Collection already created\")"
   ]
  },
  {
   "cell_type": "code",
   "execution_count": 31,
   "id": "94027d1d",
   "metadata": {},
   "outputs": [
    {
     "data": {
      "text/plain": [
       "UpdateResult(operation_id=0, status=<UpdateStatus.COMPLETED: 'completed'>)"
      ]
     },
     "execution_count": 31,
     "metadata": {},
     "output_type": "execute_result"
    }
   ],
   "source": [
    "qdrant_client.upsert(collection_name=COL_NAME, points=points)"
   ]
  },
  {
   "cell_type": "code",
   "execution_count": null,
   "id": "56929f98",
   "metadata": {},
   "outputs": [],
   "source": []
  },
  {
   "cell_type": "code",
   "execution_count": null,
   "id": "293b27fa",
   "metadata": {},
   "outputs": [],
   "source": []
  }
 ],
 "metadata": {
  "kernelspec": {
   "display_name": "venv",
   "language": "python",
   "name": "python3"
  },
  "language_info": {
   "codemirror_mode": {
    "name": "ipython",
    "version": 3
   },
   "file_extension": ".py",
   "mimetype": "text/x-python",
   "name": "python",
   "nbconvert_exporter": "python",
   "pygments_lexer": "ipython3",
   "version": "3.12.11"
  }
 },
 "nbformat": 4,
 "nbformat_minor": 5
}
