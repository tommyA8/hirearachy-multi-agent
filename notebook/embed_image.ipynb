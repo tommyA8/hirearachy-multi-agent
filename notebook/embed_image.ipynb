{
 "cells": [
  {
   "cell_type": "code",
   "execution_count": 21,
   "id": "6bace553",
   "metadata": {},
   "outputs": [],
   "source": [
    "import os\n",
    "import uuid\n",
    "import numpy as np\n",
    "from PIL import Image\n",
    "from qdrant_client import QdrantClient\n",
    "from qdrant_client.http.models import PointStruct, VectorParams, Distance\n",
    "from sentence_transformers import SentenceTransformer\n",
    "from pydantic import BaseModel\n",
    "\n",
    "from dotenv import load_dotenv\n",
    "load_dotenv(override=True)\n",
    "\n",
    "import warnings\n",
    "warnings.filterwarnings(\"ignore\")"
   ]
  },
  {
   "cell_type": "code",
   "execution_count": 22,
   "id": "dc2a1b0c",
   "metadata": {},
   "outputs": [],
   "source": [
    "class ImageMeta(BaseModel):\n",
    "    \"\"\" Schema ของภาพที่จำเป็นต้อง embed เพื่อใช้ในการ Retrieve ข้อมูล ด้วย metadata \"\"\"\n",
    "    filename: str\n",
    "    project: str\n",
    "    desc: str"
   ]
  },
  {
   "cell_type": "code",
   "execution_count": 23,
   "id": "f0a8a1c8",
   "metadata": {},
   "outputs": [],
   "source": [
    "class ImageEmbedder:\n",
    "    def __init__(self, client: QdrantClient, collection_name: str, model_name: str = \"clip-ViT-B-32\"):\n",
    "        self.client = client\n",
    "        self.collection_name = collection_name\n",
    "        self.client.recreate_collection(\n",
    "            collection_name=self.collection_name,\n",
    "            vectors_config=VectorParams(size=512, distance=Distance.COSINE)\n",
    "        )\n",
    "        self.model = SentenceTransformer(model_name)\n",
    "\n",
    "    def _embed_image(self, image_path: str) -> np.ndarray:\n",
    "        img = Image.open(image_path).convert(\"RGB\")\n",
    "        emb = self.model.encode([img], convert_to_tensor=True)[0].cpu().numpy()\n",
    "        return emb\n",
    "\n",
    "    def _set_point(self, vec: np.ndarray, image_path: str, project: str, desc: str) -> PointStruct:\n",
    "        return PointStruct(\n",
    "            id=str(uuid.uuid4()), \n",
    "            vector=vec.tolist(), \n",
    "            payload=ImageMeta(filename=image_path, project=project,desc=desc).dict()\n",
    "        )\n",
    "\n",
    "    def add_image(self, image_path: str, project: str, desc: str):\n",
    "        vec = self._embed_image(image_path)\n",
    "        point = self._set_point(vec, image_path, project, desc)\n",
    "\n",
    "        self.client.upsert(\n",
    "            collection_name=self.collection_name,\n",
    "            points=[point]\n",
    "        )"
   ]
  },
  {
   "cell_type": "code",
   "execution_count": 24,
   "id": "dc9c885e",
   "metadata": {},
   "outputs": [],
   "source": [
    "# Create an instance of QdrantClient and ImageEmbedder\n",
    "QDRANT_URL = os.getenv(\"QDRANT_URL\")\n",
    "\n",
    "qdrant_client = QdrantClient(url=QDRANT_URL)\n",
    "embedder = ImageEmbedder(client=qdrant_client, collection_name=\"cm-images\", model_name=\"clip-ViT-B-32\")"
   ]
  },
  {
   "cell_type": "code",
   "execution_count": 25,
   "id": "39e0d229",
   "metadata": {},
   "outputs": [],
   "source": [
    "# Embed and add images\n",
    "embedder.add_image(\"images/site_a.jpg\", \"A\", \"ภาพไซต์งานก่อสร้าง A ที่มีการติดตั้งโครงสร้างพื้นฐาน บริเวณกลางเมือง\")\n",
    "embedder.add_image(\"images/blueprint.jpg\", \"B\", \"blueprint อาคาร B ที่มีการออกแบบโครงสร้างพื้นฐาน บริเวณกลางเมือง\")"
   ]
  },
  {
   "cell_type": "markdown",
   "id": "882350b6",
   "metadata": {},
   "source": [
    "# Text-to-image search"
   ]
  },
  {
   "cell_type": "code",
   "execution_count": 26,
   "id": "acb5742e",
   "metadata": {},
   "outputs": [],
   "source": [
    "# ควรจะต้องลองใช้ hybrid search นะ"
   ]
  },
  {
   "cell_type": "code",
   "execution_count": 27,
   "id": "a4a4d546",
   "metadata": {},
   "outputs": [],
   "source": [
    "# ใส่ข้อความที่ต้องการค้นหา\n",
    "query_text = \" blueprint \""
   ]
  },
  {
   "cell_type": "code",
   "execution_count": 28,
   "id": "4d240902",
   "metadata": {},
   "outputs": [],
   "source": [
    "# สร้างเวกเตอร์จากข้อความ ด้วย CLIP\n",
    "query_vec = embedder.model.encode([query_text], convert_to_tensor=True)[0].cpu().numpy()"
   ]
  },
  {
   "cell_type": "code",
   "execution_count": 29,
   "id": "473b9547",
   "metadata": {},
   "outputs": [],
   "source": [
    "# ค้นหาใน Qdrant (top-3 ที่ใกล้สุด)\n",
    "hits = qdrant_client.search(\n",
    "    collection_name=\"images\",\n",
    "    query_vector=query_vec.tolist(),\n",
    "    limit=1\n",
    ")"
   ]
  },
  {
   "cell_type": "code",
   "execution_count": 30,
   "id": "baf286f2",
   "metadata": {},
   "outputs": [
    {
     "name": "stdout",
     "output_type": "stream",
     "text": [
      "ผลลัพธ์:\n",
      "ไฟล์: images/blueprint.jpg | รายละเอียด: blueprint อาคาร B | Project: B\n"
     ]
    }
   ],
   "source": [
    "print(\"ผลลัพธ์:\")\n",
    "for hit in hits:\n",
    "    print(f\"ไฟล์: {hit.payload['filename']} | รายละเอียด: {hit.payload['desc']} | Project: {hit.payload['project']}\")"
   ]
  },
  {
   "cell_type": "code",
   "execution_count": null,
   "id": "b7c3953d",
   "metadata": {},
   "outputs": [],
   "source": []
  },
  {
   "cell_type": "code",
   "execution_count": null,
   "id": "35d02308",
   "metadata": {},
   "outputs": [],
   "source": []
  }
 ],
 "metadata": {
  "kernelspec": {
   "display_name": "venv (3.10.16)",
   "language": "python",
   "name": "python3"
  },
  "language_info": {
   "codemirror_mode": {
    "name": "ipython",
    "version": 3
   },
   "file_extension": ".py",
   "mimetype": "text/x-python",
   "name": "python",
   "nbconvert_exporter": "python",
   "pygments_lexer": "ipython3",
   "version": "3.10.16"
  }
 },
 "nbformat": 4,
 "nbformat_minor": 5
}
