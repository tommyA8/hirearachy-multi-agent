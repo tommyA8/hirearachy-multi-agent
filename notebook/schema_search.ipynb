{
 "cells": [
  {
   "cell_type": "code",
   "execution_count": 13,
   "id": "e7c8610d",
   "metadata": {},
   "outputs": [],
   "source": [
    "# utils/snippet_builder.py\n",
    "import os\n",
    "from typing import List, Dict\n",
    "from pydantic import BaseModel\n",
    "from sqlalchemy import create_engine, Table, MetaData, ForeignKey\n",
    "from sqlalchemy.inspection import inspect\n",
    "from dotenv import load_dotenv\n",
    "load_dotenv(override=True)\n",
    "\n",
    "class SchemaMetadata(BaseModel):\n",
    "    table: str\n",
    "    fields: List[str]\n",
    "    related_tables: List[str]\n",
    "\n",
    "class SchemaDoc(BaseModel):\n",
    "    id: str\n",
    "    title: str\n",
    "    content: str\n",
    "    metadata: SchemaMetadata\n"
   ]
  },
  {
   "cell_type": "markdown",
   "id": "6eb17ff5",
   "metadata": {},
   "source": [
    "# Create Engine"
   ]
  },
  {
   "cell_type": "code",
   "execution_count": 14,
   "id": "b12f45ab",
   "metadata": {},
   "outputs": [],
   "source": [
    "POSTGRES_URI = os.getenv(\"POSTGRES_URI\")\n",
    "engine = create_engine(POSTGRES_URI)\n",
    "db = engine.connect()"
   ]
  },
  {
   "cell_type": "code",
   "execution_count": 15,
   "id": "509a4584",
   "metadata": {},
   "outputs": [],
   "source": [
    "metadata = MetaData()\n",
    "metadata.reflect(bind=engine, schema=\"public\")"
   ]
  },
  {
   "cell_type": "code",
   "execution_count": 16,
   "id": "c70e94b1",
   "metadata": {},
   "outputs": [
    {
     "name": "stderr",
     "output_type": "stream",
     "text": [
      "/tmp/ipykernel_86758/798865819.py:2: SAWarning: Cannot correctly sort tables; there are unresolvable cycles between tables \"public.oauth2_provider_accesstoken, public.oauth2_provider_refreshtoken\", which is usually caused by mutually dependent foreign key constraints.  Foreign key constraints involving these tables will not be considered; this warning may raise an error in a future release.\n",
      "  tables_info = metadata.sorted_tables\n"
     ]
    }
   ],
   "source": [
    "insp = inspect(engine)\n",
    "tables_info = metadata.sorted_tables\n",
    "\n",
    "def create_snippet(tables_info):\n",
    "    # Get Table Name\n",
    "    table_name = tables_info.name\n",
    "    \n",
    "    # Get fields type\n",
    "    field_names = []\n",
    "    field_types = []\n",
    "    for col in insp.get_columns(table_name=table_name):\n",
    "        field_names.append(col['name'])\n",
    "        field_types.append(\n",
    "            f\"\"\"{col['name']} ({col['type']})\"\"\"\n",
    "        )\n",
    "\n",
    "    # Get Foreign key\n",
    "    relationships = []\n",
    "    related_tables = []\n",
    "    for fk in insp.get_foreign_keys(table_name=table_name):\n",
    "        relationships.append(\n",
    "            f\"\"\"{\"_\".join(fk[\"name\"].split(\"_\")[0:2])}.{fk['constrained_columns'][0]} → {fk['referred_table']}.{fk['referred_columns'][0]}\"\"\"\n",
    "        )\n",
    "        related_tables.append(f\"{fk['referred_table']}\")\n",
    "\n",
    "    field_types_content = ','.join(field_types)\n",
    "    relationships_content = \",\\n\".join(relationships) if relationships else None\n",
    "\n",
    "    content = f\"\"\"Table: {table_name}\n",
    "    Description: N/A\n",
    "    Fields: {field_types_content}\n",
    "    Relationships:{relationships_content}\n",
    "    \"\"\"\n",
    "\n",
    "    return SchemaDoc(\n",
    "        id=f\"Table::{table_name}\",\n",
    "        title=f\"Description of {table_name}\",\n",
    "        content=content,\n",
    "        metadata=SchemaMetadata(\n",
    "            table=table_name,\n",
    "            fields=field_names,\n",
    "            related_tables=related_tables,\n",
    "        )\n",
    "    )"
   ]
  },
  {
   "cell_type": "code",
   "execution_count": 17,
   "id": "effb6439",
   "metadata": {},
   "outputs": [
    {
     "data": {
      "text/plain": [
       "[SchemaDoc(id='Table::company_permissiongroup', title='Description of company_permissiongroup', content='Table: company_permissiongroup\\n    Description: N/A\\n    Fields: id (BIGINT),deleted (TIMESTAMP),deleted_by_cascade (BOOLEAN),created_at (TIMESTAMP),updated_at (TIMESTAMP),level (INTEGER),created_by_id (INTEGER),permission_id (BIGINT),tool_id (BIGINT),updated_by_id (INTEGER)\\n    Relationships:company_permissiongr.permission_id → company_permission.id,\\ncompany_permissiongr.tool_id → company_toollabels.id,\\ncompany_permissiongroup.created_by_id → auth_user.id,\\ncompany_permissiongroup.updated_by_id → auth_user.id\\n    ', metadata=SchemaMetadata(table='company_permissiongroup', fields=['id', 'deleted', 'deleted_by_cascade', 'created_at', 'updated_at', 'level', 'created_by_id', 'permission_id', 'tool_id', 'updated_by_id'], related_tables=['company_permission', 'company_toollabels', 'auth_user', 'auth_user'])),\n",
       " SchemaDoc(id='Table::company_tag_tool_list', title='Description of company_tag_tool_list', content='Table: company_tag_tool_list\\n    Description: N/A\\n    Fields: id (BIGINT),tag_id (BIGINT),toollabels_id (BIGINT)\\n    Relationships:company_tag.toollabels_id → company_toollabels.id,\\ncompany_tag.tag_id → company_tag.id\\n    ', metadata=SchemaMetadata(table='company_tag_tool_list', fields=['id', 'tag_id', 'toollabels_id'], related_tables=['company_toollabels', 'company_tag'])),\n",
       " SchemaDoc(id='Table::field_config_customfieldvalue', title='Description of field_config_customfieldvalue', content='Table: field_config_customfieldvalue\\n    Description: N/A\\n    Fields: id (BIGINT),deleted (TIMESTAMP),deleted_by_cascade (BOOLEAN),created_at (TIMESTAMP),updated_at (TIMESTAMP),values (JSONB),created_by_id (INTEGER),updated_by_id (INTEGER),custom_field_id (BIGINT),doc_id (BIGINT),doc_type_id (INTEGER),template_id (BIGINT),template_type_id (INTEGER)\\n    Relationships:field_config.created_by_id → auth_user.id,\\nfield_config.custom_field_id → field_config_customfield.id,\\nfield_config.doc_type_id → django_content_type.id,\\nfield_config.template_type_id → django_content_type.id,\\nfield_config.updated_by_id → auth_user.id\\n    ', metadata=SchemaMetadata(table='field_config_customfieldvalue', fields=['id', 'deleted', 'deleted_by_cascade', 'created_at', 'updated_at', 'values', 'created_by_id', 'updated_by_id', 'custom_field_id', 'doc_id', 'doc_type_id', 'template_id', 'template_type_id'], related_tables=['auth_user', 'field_config_customfield', 'django_content_type', 'django_content_type', 'auth_user'])),\n",
       " SchemaDoc(id='Table::project_project', title='Description of project_project', content='Table: project_project\\n    Description: N/A\\n    Fields: id (BIGINT),deleted (TIMESTAMP),deleted_by_cascade (BOOLEAN),created_at (TIMESTAMP),updated_at (TIMESTAMP),code (VARCHAR(20)),title (VARCHAR(255)),uuid (UUID),image (VARCHAR(255)),value (NUMERIC(15, 2)),size (DOUBLE PRECISION),description (TEXT),start_date (TIMESTAMP),end_date (TIMESTAMP),company_id (BIGINT),created_by_id (INTEGER),process_id (BIGINT),project_type_id (BIGINT),updated_by_id (INTEGER),address (VARCHAR(255)),city (VARCHAR(255)),country (VARCHAR(100)),fax (VARCHAR(50)),latitude (VARCHAR(55)),longitude (VARCHAR(55)),phone (VARCHAR(50)),postcode (VARCHAR(10)),state (VARCHAR(255)),time_zone (VARCHAR(255)),zone (VARCHAR(255)),currency_id (BIGINT)\\n    Relationships:project_project.company_id → company_company.id,\\nproject_project.created_by_id → auth_user.id,\\nproject_project.currency_id → project_currency.id,\\nproject_project.process_id → company_process.id,\\nproject_project.project_type_id → company_projecttype.id,\\nproject_project.updated_by_id → auth_user.id\\n    ', metadata=SchemaMetadata(table='project_project', fields=['id', 'deleted', 'deleted_by_cascade', 'created_at', 'updated_at', 'code', 'title', 'uuid', 'image', 'value', 'size', 'description', 'start_date', 'end_date', 'company_id', 'created_by_id', 'process_id', 'project_type_id', 'updated_by_id', 'address', 'city', 'country', 'fax', 'latitude', 'longitude', 'phone', 'postcode', 'state', 'time_zone', 'zone', 'currency_id'], related_tables=['company_company', 'auth_user', 'project_currency', 'company_process', 'company_projecttype', 'auth_user'])),\n",
       " SchemaDoc(id='Table::support_ticket_supportticketmessagefile', title='Description of support_ticket_supportticketmessagefile', content='Table: support_ticket_supportticketmessagefile\\n    Description: N/A\\n    Fields: id (BIGINT),deleted (TIMESTAMP),deleted_by_cascade (BOOLEAN),created_at (TIMESTAMP),updated_at (TIMESTAMP),uuid (UUID),file (VARCHAR(255)),created_by_id (INTEGER),message_id (BIGINT),updated_by_id (INTEGER)\\n    Relationships:support_ticket.created_by_id → auth_user.id,\\nsupport_ticket.message_id → support_ticket_supportticketmessage.id,\\nsupport_ticket.updated_by_id → auth_user.id\\n    ', metadata=SchemaMetadata(table='support_ticket_supportticketmessagefile', fields=['id', 'deleted', 'deleted_by_cascade', 'created_at', 'updated_at', 'uuid', 'file', 'created_by_id', 'message_id', 'updated_by_id'], related_tables=['auth_user', 'support_ticket_supportticketmessage', 'auth_user'])),\n",
       " SchemaDoc(id='Table::company_formcenter', title='Description of company_formcenter', content='Table: company_formcenter\\n    Description: N/A\\n    Fields: id (BIGINT),deleted (TIMESTAMP),deleted_by_cascade (BOOLEAN),created_at (TIMESTAMP),updated_at (TIMESTAMP),uuid (UUID),title (VARCHAR(255)),description (TEXT),type (INTEGER),total_score (DOUBLE PRECISION),source (JSONB),file (VARCHAR(255)),content_type (VARCHAR(255)),company_id (BIGINT),created_by_id (INTEGER),discipline_id (BIGINT),updated_by_id (INTEGER)\\n    Relationships:company_formcenter.company_id → company_company.id,\\ncompany_formcenter.created_by_id → auth_user.id,\\ncompany_formcenter.discipline_id → company_discipline.id,\\ncompany_formcenter.updated_by_id → auth_user.id\\n    ', metadata=SchemaMetadata(table='company_formcenter', fields=['id', 'deleted', 'deleted_by_cascade', 'created_at', 'updated_at', 'uuid', 'title', 'description', 'type', 'total_score', 'source', 'file', 'content_type', 'company_id', 'created_by_id', 'discipline_id', 'updated_by_id'], related_tables=['company_company', 'auth_user', 'company_discipline', 'auth_user'])),\n",
       " SchemaDoc(id='Table::company_tagprojectgroup', title='Description of company_tagprojectgroup', content='Table: company_tagprojectgroup\\n    Description: N/A\\n    Fields: id (BIGINT),project_id (BIGINT),tag_id (BIGINT)\\n    Relationships:company_tagprojectgr.project_id → project_project.id,\\ncompany_tagprojectgroup.tag_id → company_tag.id\\n    ', metadata=SchemaMetadata(table='company_tagprojectgroup', fields=['id', 'project_id', 'tag_id'], related_tables=['project_project', 'company_tag'])),\n",
       " SchemaDoc(id='Table::customers_chppmilestone', title='Description of customers_chppmilestone', content='Table: customers_chppmilestone\\n    Description: N/A\\n    Fields: id (BIGINT),deleted (TIMESTAMP),deleted_by_cascade (BOOLEAN),created_at (TIMESTAMP),updated_at (TIMESTAMP),name (VARCHAR(255)),completed (TIMESTAMP),acceptance (TIMESTAMP),send_bd (TIMESTAMP),created_by_id (INTEGER),project_id (BIGINT),updated_by_id (INTEGER)\\n    Relationships:customers_chppmilest.project_id → project_project.id,\\ncustomers_chppmilestone.created_by_id → auth_user.id,\\ncustomers_chppmilestone.updated_by_id → auth_user.id\\n    ', metadata=SchemaMetadata(table='customers_chppmilestone', fields=['id', 'deleted', 'deleted_by_cascade', 'created_at', 'updated_at', 'name', 'completed', 'acceptance', 'send_bd', 'created_by_id', 'project_id', 'updated_by_id'], related_tables=['project_project', 'auth_user', 'auth_user'])),\n",
       " SchemaDoc(id='Table::customers_chppprojectdashboard', title='Description of customers_chppprojectdashboard', content='Table: customers_chppprojectdashboard\\n    Description: N/A\\n    Fields: id (BIGINT),deleted (TIMESTAMP),deleted_by_cascade (BOOLEAN),created_at (TIMESTAMP),updated_at (TIMESTAMP),mega_watt (DOUBLE PRECISION),invoice (DOUBLE PRECISION),percent_plan (DOUBLE PRECISION),percent_actual (DOUBLE PRECISION),is_closed (BOOLEAN),closed_date (TIMESTAMP),finish (TIMESTAMP),is_archived (BOOLEAN),archived_date (TIMESTAMP),created_by_id (INTEGER),project_id (BIGINT),updated_by_id (INTEGER)\\n    Relationships:customers_chppprojec.created_by_id → auth_user.id,\\ncustomers_chppprojec.project_id → project_project.id,\\ncustomers_chppprojec.updated_by_id → auth_user.id\\n    ', metadata=SchemaMetadata(table='customers_chppprojectdashboard', fields=['id', 'deleted', 'deleted_by_cascade', 'created_at', 'updated_at', 'mega_watt', 'invoice', 'percent_plan', 'percent_actual', 'is_closed', 'closed_date', 'finish', 'is_archived', 'archived_date', 'created_by_id', 'project_id', 'updated_by_id'], related_tables=['auth_user', 'project_project', 'auth_user'])),\n",
       " SchemaDoc(id='Table::customers_chpptask', title='Description of customers_chpptask', content='Table: customers_chpptask\\n    Description: N/A\\n    Fields: id (BIGINT),deleted (TIMESTAMP),deleted_by_cascade (BOOLEAN),created_at (TIMESTAMP),updated_at (TIMESTAMP),title (VARCHAR(255)),weight (DOUBLE PRECISION),percent_plan (DOUBLE PRECISION),percent_actual (DOUBLE PRECISION),previous_percent_plan (DOUBLE PRECISION),previous_percent_actual (DOUBLE PRECISION),current_week_percent_plan (DOUBLE PRECISION),current_week_percent_actual (DOUBLE PRECISION),created_by_id (INTEGER),project_id (BIGINT),updated_by_id (INTEGER)\\n    Relationships:customers_chpptask.created_by_id → auth_user.id,\\ncustomers_chpptask.project_id → project_project.id,\\ncustomers_chpptask.updated_by_id → auth_user.id\\n    ', metadata=SchemaMetadata(table='customers_chpptask', fields=['id', 'deleted', 'deleted_by_cascade', 'created_at', 'updated_at', 'title', 'weight', 'percent_plan', 'percent_actual', 'previous_percent_plan', 'previous_percent_actual', 'current_week_percent_plan', 'current_week_percent_actual', 'created_by_id', 'project_id', 'updated_by_id'], related_tables=['auth_user', 'project_project', 'auth_user']))]"
      ]
     },
     "execution_count": 17,
     "metadata": {},
     "output_type": "execute_result"
    }
   ],
   "source": [
    "snippets = []\n",
    "for table in tables_info:\n",
    "    # Create database snippet by table\n",
    "    snippets.append(create_snippet(table))\n",
    "\n",
    "snippets[70:80]"
   ]
  },
  {
   "cell_type": "code",
   "execution_count": 18,
   "id": "c3c13343",
   "metadata": {},
   "outputs": [],
   "source": [
    "import json\n",
    "\n",
    "QDRANT_COL_NAME = os.getenv(\"QDRANT_COL_NAME\")\n",
    "\n",
    "with open(f\"{QDRANT_COL_NAME.lower()}.json\", \"w\") as f:\n",
    "    f.write(json.dumps([doc.model_dump() for doc in snippets], indent=2))"
   ]
  },
  {
   "cell_type": "markdown",
   "id": "9672c9c3",
   "metadata": {},
   "source": [
    "# Embedding"
   ]
  },
  {
   "cell_type": "code",
   "execution_count": 19,
   "id": "503ffc15",
   "metadata": {},
   "outputs": [],
   "source": [
    "# utils/qdrant_helper.py\n",
    "from qdrant_client import QdrantClient\n",
    "from qdrant_client.models import VectorParams, PointStruct, Distance\n",
    "\n",
    "def init_qdrant(collection_name, size, url=\"localhost:6333\"):\n",
    "    client = QdrantClient(url=url)\n",
    "    client.recreate_collection(\n",
    "        collection_name=collection_name,\n",
    "        vectors_config=VectorParams(size=size, distance=Distance.COSINE),\n",
    "    )\n",
    "    return client\n",
    "\n",
    "def upsert_snippets(snippets, embed_fn, client, collection_name):\n",
    "    points = []\n",
    "    for i, snip in enumerate(snippets):\n",
    "        vector = embed_fn(snip[\"content\"])\n",
    "        points.append(\n",
    "            PointStruct(\n",
    "                id=i,\n",
    "                vector=vector,\n",
    "                payload={\n",
    "                    \"text\": snip[\"content\"],\n",
    "                    \"title\": snip[\"title\"],\n",
    "                    **snip[\"metadata\"]\n",
    "                }\n",
    "            )\n",
    "        )\n",
    "    client.upsert(collection_name=collection_name, points=points)\n"
   ]
  },
  {
   "cell_type": "code",
   "execution_count": 20,
   "id": "1e1039d0",
   "metadata": {},
   "outputs": [],
   "source": [
    "from langchain_ollama import OllamaEmbeddings\n",
    "\n",
    "embedder = OllamaEmbeddings(model=\"nomic-embed-text:latest\")"
   ]
  },
  {
   "cell_type": "code",
   "execution_count": 21,
   "id": "6bb2a915",
   "metadata": {},
   "outputs": [],
   "source": [
    "docs_dict = [doc.model_dump() for doc in snippets]"
   ]
  },
  {
   "cell_type": "code",
   "execution_count": 22,
   "id": "d09ff5aa",
   "metadata": {},
   "outputs": [
    {
     "name": "stderr",
     "output_type": "stream",
     "text": [
      "/tmp/ipykernel_86758/2896530780.py:7: DeprecationWarning: `recreate_collection` method is deprecated and will be removed in the future. Use `collection_exists` to check collection existence and `create_collection` instead.\n",
      "  client.recreate_collection(\n"
     ]
    },
    {
     "name": "stdout",
     "output_type": "stream",
     "text": [
      "✅ Snippets embedded and stored in Qdrant.\n"
     ]
    }
   ],
   "source": [
    "# 2. Embed function\n",
    "def embed_fn(text):\n",
    "    return embedder.embed_query(text)\n",
    "\n",
    "# 3. Init Qdrant\n",
    "qdrant = init_qdrant(collection_name=QDRANT_COL_NAME, size=768)\n",
    "\n",
    "# 5. Push to Qdrant\n",
    "upsert_snippets(docs_dict, embed_fn, qdrant, collection_name=QDRANT_COL_NAME)\n",
    "\n",
    "print(\"✅ Snippets embedded and stored in Qdrant.\")\n"
   ]
  }
 ],
 "metadata": {
  "kernelspec": {
   "display_name": "venv",
   "language": "python",
   "name": "python3"
  },
  "language_info": {
   "codemirror_mode": {
    "name": "ipython",
    "version": 3
   },
   "file_extension": ".py",
   "mimetype": "text/x-python",
   "name": "python",
   "nbconvert_exporter": "python",
   "pygments_lexer": "ipython3",
   "version": "3.10.18"
  }
 },
 "nbformat": 4,
 "nbformat_minor": 5
}
