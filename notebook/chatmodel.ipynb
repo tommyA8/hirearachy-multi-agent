{
 "cells": [
  {
   "cell_type": "code",
   "execution_count": 1,
   "id": "45c79c3b",
   "metadata": {},
   "outputs": [],
   "source": [
    "from langchain_ollama import OllamaLLM"
   ]
  },
  {
   "cell_type": "code",
   "execution_count": null,
   "id": "ebef708a",
   "metadata": {},
   "outputs": [
    {
     "data": {
      "text/plain": [
       "'The first man on the moon was **Neil Armstrong**. \\n\\nHe took his first steps on the lunar surface on July 20, 1969, as part of the Apollo 11 mission.\\n'"
      ]
     },
     "execution_count": 8,
     "metadata": {},
     "output_type": "execute_result"
    }
   ],
   "source": [
    "llm = OllamaLLM(model=\"gemma3n:e4b\")\n",
    "llm.invoke(\"The first man on the moon was ...\")"
   ]
  },
  {
   "cell_type": "code",
   "execution_count": 14,
   "id": "ba52d1d5",
   "metadata": {},
   "outputs": [
    {
     "name": "stdout",
     "output_type": "stream",
     "text": [
      "The first man on the moon was **Neil Armstrong**. \n",
      "\n",
      "He made the historic first step onto the lunar surface on July 20, 1969, during the Apollo 11 mission.\n",
      "\n",
      "\n",
      "\n"
     ]
    }
   ],
   "source": [
    "for chunk in llm.stream(\"The first man on the moon was ...\"):\n",
    "    print(chunk, end=\"\", flush=True)"
   ]
  },
  {
   "cell_type": "code",
   "execution_count": 21,
   "id": "b94bff99",
   "metadata": {},
   "outputs": [
    {
     "data": {
      "text/plain": [
       "AIMessage(content='The first man on the moon was **Neil Armstrong**. \\n\\nHe took his first step onto the lunar surface on **July 20, 1969**, as part of the Apollo 11 mission. \\n', additional_kwargs={}, response_metadata={'model': 'gemma3n:e4b', 'created_at': '2025-08-05T03:48:38.95474042Z', 'done': True, 'done_reason': 'stop', 'total_duration': 1092804392, 'load_duration': 74466676, 'prompt_eval_count': 18, 'prompt_eval_duration': 42738312, 'eval_count': 48, 'eval_duration': 974955230, 'model_name': 'gemma3n:e4b'}, id='run--8bea4237-2c36-4ede-933b-becc2f5093d3-0', usage_metadata={'input_tokens': 18, 'output_tokens': 48, 'total_tokens': 66})"
      ]
     },
     "execution_count": 21,
     "metadata": {},
     "output_type": "execute_result"
    }
   ],
   "source": [
    "from langchain_ollama import ChatOllama\n",
    "\n",
    "chat_model = ChatOllama(model=\"gemma3n:e4b\")\n",
    "\n",
    "chat_model.invoke(\"Who was the first man on the moon?\")"
   ]
  },
  {
   "cell_type": "code",
   "execution_count": 22,
   "id": "18c7729b",
   "metadata": {},
   "outputs": [
    {
     "name": "stdout",
     "output_type": "stream",
     "text": [
      "The first man on the moon was **Neil Armstrong**. \n",
      "\n",
      "He made the historic first step onto the lunar surface on July 20, 1969, during the Apollo 11 mission.\n"
     ]
    }
   ],
   "source": [
    "for chunk in chat_model.stream(\"The first man on the moon was ...\"):\n",
    "    print(chunk.content, end=\"\", flush=True)"
   ]
  },
  {
   "cell_type": "code",
   "execution_count": 57,
   "id": "1de58d6f",
   "metadata": {},
   "outputs": [],
   "source": [
    "from typing import Optional, Union\n",
    "from pydantic import BaseModel, Field\n",
    "from typing_extensions import Annotated, TypedDict\n",
    "\n",
    "class Joke(TypedDict):\n",
    "    \"\"\"Joke to tell user.\"\"\"\n",
    "    setup: str = Field(description=\"The setup of the joke\")\n",
    "    punchline: str = Field(description=\"The punchline to the joke\")\n",
    "    rating: Optional[int] = Field(\n",
    "        default=None, description=\"How funny the joke is, from 1 to 10\"\n",
    "    )\n",
    "\n",
    "\n",
    "class ConversationalResponse(TypedDict):\n",
    "    \"\"\"Respond in a conversational manner. Be kind and helpful.\"\"\"\n",
    "    response: str = Field(description=\"A conversational response to the user's query and short\")\n",
    "\n",
    "\n",
    "class FinalResponse(TypedDict):\n",
    "    final_output: Union[Joke, ConversationalResponse]"
   ]
  },
  {
   "cell_type": "code",
   "execution_count": 58,
   "id": "b3fddab1",
   "metadata": {},
   "outputs": [
    {
     "data": {
      "text/plain": [
       "{'setup': \"This is a humorous question playing on the word 'atoms' and 'atoms of trust'. It's a pun, not a serious scientific concern.\",\n",
       " 'punchline': 'Because they make up everything!',\n",
       " 'rating': 5}"
      ]
     },
     "execution_count": 58,
     "metadata": {},
     "output_type": "execute_result"
    }
   ],
   "source": [
    "structured_chat_model = chat_model.with_structured_output(Joke)\n",
    "structured_chat_model.invoke(\"Why don't scientists trust atoms?\")"
   ]
  },
  {
   "cell_type": "code",
   "execution_count": 59,
   "id": "3a01e355",
   "metadata": {},
   "outputs": [
    {
     "data": {
      "text/plain": [
       "{'final_output': {'response': 'This is a classic science joke! The punchline is: Because they make up everything!'}}"
      ]
     },
     "execution_count": 59,
     "metadata": {},
     "output_type": "execute_result"
    }
   ],
   "source": [
    "structured_chat_model = chat_model.with_structured_output(FinalResponse)\n",
    "structured_chat_model.invoke(\"Why don't scientists trust atoms?\")"
   ]
  },
  {
   "cell_type": "code",
   "execution_count": 60,
   "id": "3822d826",
   "metadata": {},
   "outputs": [
    {
     "data": {
      "text/plain": [
       "{'final_output': {'response': \"That's a question humans have pondered for millennia! There's no single, easy answer, as love is a complex and multifaceted emotion. Here's a breakdown of different perspectives:\\n\\n**From a Psychological Perspective:**\\n*   **Attachment Theory:**  Love is deeply rooted in our early childhood experiences with caregivers.  Secure attachment leads to trusting, healthy relationships.  Different attachment styles (secure, anxious, avoidant) influence how we express and experience love.\\n*   **Neurochemistry:**  Love triggers the release of chemicals like dopamine (pleasure, reward), oxytocin (bonding, trust), and vasopressin (long-term bonding). These chemicals create feelings of euphoria, connection, and commitment.\\n*   **Different Types of Love:** Psychologists often distinguish between different types of love:\\n    *   **Romantic Love:**  Characterized by passion, intimacy, and commitment.  Often involves intense emotions and a desire for closeness.\\n    *   **Companionate Love:**  Based on deep affection, trust, and shared values.  More stable and enduring than romantic love.\\n    *   **Consummate Love:**  The ideal combination of passion, intimacy, and commitment.  Rare and often considered a long-term goal.\\n    *   **Self-Love:**  Acceptance, respect, and compassion for oneself.  Essential for mental and emotional well-being.\\n\\n**From a Philosophical Perspective:**\\n*   **Agape (Unconditional Love):**  Selfless, altruistic love that extends to all people, regardless of their worthiness.  Often associated with spiritual or religious beliefs.\\n*   **Eros (Passionate Love):**  Romantic, sensual love driven by desire and attraction.\\n*   **Philia (Brotherly Love):**  Affectionate friendship based on shared values and mutual respect.\\n\\n**From a Personal/Experiential Perspective:**\\n*   **Feeling of Deep Connection:**  A sense of being understood, accepted, and valued by another person.\\n*   **Care and Concern:**  Wanting the best for someone else and being willing to support them.\\n*   **Trust and Respect:**  Having confidence in someone's character and valuing their opinions.\\n*   **Joy and Happiness:**  Feeling happy and fulfilled in someone's presence.\\n*   **Commitment and Loyalty:**  A willingness to stick with someone through thick and thin.\\n\\n**In short, love can be described as:**\\n\\n*   A powerful emotion that motivates us to care for and connect with others.\\n*   A complex interplay of biological, psychological, and social factors.\\n*   A deeply personal and subjective experience.\\n*   A fundamental aspect of the human condition.\\n\\nUltimately, what love *is* is often best understood through personal experience. It's something you feel, something you do, and something that shapes who you are.\"}}"
      ]
     },
     "execution_count": 60,
     "metadata": {},
     "output_type": "execute_result"
    }
   ],
   "source": [
    "structured_chat_model = chat_model.with_structured_output(FinalResponse)\n",
    "structured_chat_model.invoke(\"what is love?\")"
   ]
  },
  {
   "cell_type": "code",
   "execution_count": 65,
   "id": "97a37e59",
   "metadata": {},
   "outputs": [
    {
     "data": {
      "text/plain": [
       "{'final_output': {'setup': 'Ladyboy',\n",
       "  'punchline': \"Ladyboy, you're so fabulous you make unicorns jealous!\",\n",
       "  'rating': 8}}"
      ]
     },
     "execution_count": 65,
     "metadata": {},
     "output_type": "execute_result"
    }
   ],
   "source": [
    "# Few shot prompt\n",
    "from langchain_core.prompts import ChatPromptTemplate\n",
    "\n",
    "system = \"\"\"You are a hilarious comedian. Your specialty is knock-knock jokes. \\\n",
    "Return a joke which has the setup (the response to \"Who's there?\") and the final punchline (the response to \"<setup> who?\").\n",
    "\n",
    "Here are some examples of jokes:\n",
    "\n",
    "example_user: Tell me a joke about planes\n",
    "example_assistant: {{\"setup\": \"Why don't planes ever get tired?\", \"punchline\": \"Because they have rest wings!\", \"rating\": 2}}\n",
    "\n",
    "example_user: Tell me another joke about planes\n",
    "example_assistant: {{\"setup\": \"Cargo\", \"punchline\": \"Cargo 'vroom vroom', but planes go 'zoom zoom'!\", \"rating\": 10}}\n",
    "\n",
    "example_user: Now about caterpillars\n",
    "example_assistant: {{\"setup\": \"Caterpillar\", \"punchline\": \"Caterpillar really slow, but watch me turn into a butterfly and steal the show!\", \"rating\": 5}}\"\"\"\n",
    "\n",
    "prompt = ChatPromptTemplate.from_messages([(\"system\", system), (\"human\", \"{input}\")])\n",
    "\n",
    "few_shot_structured_llm = prompt | structured_chat_model\n",
    "few_shot_structured_llm.invoke(\"what's something funny about Ladyboy?\")"
   ]
  },
  {
   "cell_type": "code",
   "execution_count": 69,
   "id": "6969b5cb",
   "metadata": {},
   "outputs": [
    {
     "data": {
      "text/plain": [
       "{'final_output': {'setup': 'Caterpillar who?',\n",
       "  'punchline': 'See ya later, *later*!',\n",
       "  'rating': 4}}"
      ]
     },
     "execution_count": 69,
     "metadata": {},
     "output_type": "execute_result"
    }
   ],
   "source": [
    "from langchain_core.messages import AIMessage, HumanMessage, ToolMessage\n",
    "\n",
    "examples = [\n",
    "    HumanMessage(\"Tell me a joke about planes\", name=\"example_user\"),\n",
    "    AIMessage(\n",
    "        \"\",\n",
    "        name=\"example_assistant\",\n",
    "        tool_calls=[\n",
    "            {\n",
    "                \"name\": \"joke\",\n",
    "                \"args\": {\n",
    "                    \"setup\": \"Why don't planes ever get tired?\",\n",
    "                    \"punchline\": \"Because they have rest wings!\",\n",
    "                    \"rating\": 2,\n",
    "                },\n",
    "                \"id\": \"1\",\n",
    "            }\n",
    "        ],\n",
    "    ),\n",
    "    # Most tool-calling models expect a ToolMessage(s) to follow an AIMessage with tool calls.\n",
    "    ToolMessage(\"\", tool_call_id=\"1\"),\n",
    "    # Some models also expect an AIMessage to follow any ToolMessages,\n",
    "    # so you may need to add an AIMessage here.\n",
    "    HumanMessage(\"Tell me another joke about planes\", name=\"example_user\"),\n",
    "    AIMessage(\n",
    "        \"\",\n",
    "        name=\"example_assistant\",\n",
    "        tool_calls=[\n",
    "            {\n",
    "                \"name\": \"joke\",\n",
    "                \"args\": {\n",
    "                    \"setup\": \"Cargo\",\n",
    "                    \"punchline\": \"Cargo 'vroom vroom', but planes go 'zoom zoom'!\",\n",
    "                    \"rating\": 10,\n",
    "                },\n",
    "                \"id\": \"2\",\n",
    "            }\n",
    "        ],\n",
    "    ),\n",
    "    ToolMessage(\"\", tool_call_id=\"2\"),\n",
    "    HumanMessage(\"Now about caterpillars\", name=\"example_user\"),\n",
    "    AIMessage(\n",
    "        \"\",\n",
    "        tool_calls=[\n",
    "            {\n",
    "                \"name\": \"joke\",\n",
    "                \"args\": {\n",
    "                    \"setup\": \"Caterpillar\",\n",
    "                    \"punchline\": \"Caterpillar really slow, but watch me turn into a butterfly and steal the show!\",\n",
    "                    \"rating\": 5,\n",
    "                },\n",
    "                \"id\": \"3\",\n",
    "            }\n",
    "        ],\n",
    "    ),\n",
    "    ToolMessage(\"\", tool_call_id=\"3\"),\n",
    "]\n",
    "system = \"\"\"You are a hilarious comedian. Your specialty is knock-knock jokes. \\\n",
    "Return a joke which has the setup (the response to \"Who's there?\") \\\n",
    "and the final punchline (the response to \"<setup> who?\").\"\"\"\n",
    "\n",
    "prompt = ChatPromptTemplate.from_messages(\n",
    "    [(\"system\", system), (\"placeholder\", \"{examples}\"), (\"human\", \"{input}\")]\n",
    ")\n",
    "few_shot_structured_llm = prompt | structured_chat_model\n",
    "few_shot_structured_llm.invoke({\"input\": \"see ya later alligator\", \"examples\": examples})"
   ]
  },
  {
   "cell_type": "code",
   "execution_count": null,
   "id": "b8fe5391",
   "metadata": {},
   "outputs": [],
   "source": []
  }
 ],
 "metadata": {
  "kernelspec": {
   "display_name": "venv (3.10.16)",
   "language": "python",
   "name": "python3"
  },
  "language_info": {
   "codemirror_mode": {
    "name": "ipython",
    "version": 3
   },
   "file_extension": ".py",
   "mimetype": "text/x-python",
   "name": "python",
   "nbconvert_exporter": "python",
   "pygments_lexer": "ipython3",
   "version": "3.10.16"
  }
 },
 "nbformat": 4,
 "nbformat_minor": 5
}
